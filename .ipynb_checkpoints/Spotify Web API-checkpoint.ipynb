{
 "cells": [
  {
   "cell_type": "markdown",
   "metadata": {},
   "source": [
    "# Accessing Spotify API Data"
   ]
  },
  {
   "cell_type": "markdown",
   "metadata": {},
   "source": [
    "In order to further explore my listening data, I wanted to access the audio features of each track that I had listened to in the past year. To do so, I needed to format a GET request to the Spotify Web API. By using a Python library entitled \"Spotipy\" that works directly with the web API, I was able to obtain the audio features for my top 1500 songs from the past year."
   ]
  },
  {
   "cell_type": "code",
   "execution_count": 2,
   "metadata": {},
   "outputs": [],
   "source": [
    "import spotipy\n",
    "from spotipy.oauth2 import SpotifyOAuth\n",
    "\n",
    "import numpy as np\n",
    "import pandas as pd\n",
    "import seaborn as sns\n",
    "import json\n",
    "import time\n",
    "import matplotlib.pyplot as plt\n",
    "%matplotlib inline\n",
    "\n",
    "plt.style.use('ggplot')"
   ]
  },
  {
   "cell_type": "code",
   "execution_count": 8,
   "metadata": {},
   "outputs": [],
   "source": [
    "CLIENT_USERNAME = \"willfurtado\"\n",
    "SPOTIPY_CLIENT_ID = \"0c58b8f377294e1393b6ff20d1db34fc\"\n",
    "SPOTIPY_CLIENT_SECRET = \"12fb3865a39343aba75ec4b118f6adf9\"\n",
    "SPOTIPY_REDIRECT_URI = \"https://localhost:8888\"\n",
    "\n",
    "PODCAST_ARTISTS = ['VIEWS with David Dobrik and Jason Nash', 'The California Golden Bearcast', \n",
    "                 'Whiskey Ginger w/ Andrew Santino', 'The Tiny Meat Gang Podcast',\n",
    "                 'Stuff You Should Know','Patriots Unfiltered','Cal Rivals Excellent Podcast Experience',\n",
    "                 'Curious with Josh Peck','Locked On Patriots - Daily Podcast On The New England Patriots',\n",
    "                 'Skotcast with Jeff Wittek & Scotty Sire','Anything Goes with Emma Chamberlain',\n",
    "                 'Call Her Daddy', 'Office Ladies', 'That Made All the Difference','Pardon My Take', \n",
    "                  'My Favorite Theorem', 'The James Altucher Show', 'Zane and Heath: Unfiltered',\n",
    "                   'With Authority','The Numberphile Podcast', 'Billionaires Getting Interviewed',\n",
    "                  'Elon Musk Interviews','Cover 3 College Football Podcast']\n",
    "\n",
    "WHITE_NOISE = ['Nature Sounds', 'Sounds Of Nature : Thunderstorm, Rain','Calmsound']\n",
    "\n",
    "DIFFICULT_SONGS = {'I Know (feat. Mick Jenkins)': 'I Know Mick Jenkins', \n",
    "                   'Take Me Home, Country Roads - Rerecorded': 'Take Me Home Country Roads',\n",
    "                  'Chica Paranormal - Verdun Remix': 'Chica Paranormal'}\n",
    "\n",
    "UNSEARCHABLE_SONGS = {'!!!!!!!':'0rQtoQXQfwpDW0c7Fw1NeM'}"
   ]
  },
  {
   "cell_type": "code",
   "execution_count": 9,
   "metadata": {},
   "outputs": [],
   "source": [
    "scope = \"user-library-read\"\n",
    "\n",
    "sp = spotipy.Spotify(auth_manager=SpotifyOAuth(scope=scope, \n",
    "    client_id=SPOTIPY_CLIENT_ID, \n",
    "    client_secret=SPOTIPY_CLIENT_SECRET,\n",
    "    username='willfurtado',\n",
    "    redirect_uri=SPOTIPY_REDIRECT_URI))"
   ]
  },
  {
   "cell_type": "code",
   "execution_count": 11,
   "metadata": {},
   "outputs": [],
   "source": [
    "with open('personal_data/StreamingHistory0.json') as file:\n",
    "    data = json.load(file)\n",
    "df0 = pd.DataFrame(data)\n",
    "\n",
    "with open('personal_data/StreamingHistory1.json') as file:\n",
    "    data1 = json.load(file)\n",
    "df1 = pd.DataFrame(data1)\n",
    "\n",
    "df = df0.append(df1, ignore_index=True)\n",
    "\n",
    "df['secPlayed'] = round(df['msPlayed'] / 1000, 1)\n",
    "df = df.drop(columns=['msPlayed'])\n",
    "STRTIME_FORMAT = '%Y-%m-%d %H:%M'\n",
    "df['endTime'] = pd.to_datetime(df['endTime'], format=STRTIME_FORMAT)\n",
    "\n",
    "music = df[~df['artistName'].isin(PODCAST_ARTISTS + WHITE_NOISE)].reset_index(drop=True)\n",
    "podcasts = df[df['artistName'].isin(PODCAST_ARTISTS)].reset_index(drop=True)"
   ]
  },
  {
   "cell_type": "code",
   "execution_count": 12,
   "metadata": {},
   "outputs": [],
   "source": [
    "def get_spotify_uri(song):\n",
    "    \"\"\"Returns the corresponding spotify URI from a given song title\"\"\"\n",
    "    if song in DIFFICULT_SONGS:\n",
    "        search_results = sp.search(q=DIFFICULT_SONGS[song], type='track', limit=1)\n",
    "    elif song in UNSEARCHABLE_SONGS:\n",
    "        return UNSEARCHABLE_SONGS[song]\n",
    "    else:\n",
    "        search_results = sp.search(q=song, type='track', limit=1)\n",
    "    try:\n",
    "        return search_results['tracks']['items'][0]['id']\n",
    "    except (AttributeError, IndexError) as err:\n",
    "        print('No results for {}'.format(song))\n",
    "        pass\n",
    "            \n",
    "unique_songs = music.groupby('trackName').count().sort_values('secPlayed', ascending=False).index\n",
    "\n",
    "column_labels = ['danceability', 'energy', 'key', 'loudness', 'mode', 'speechiness', 'acousticness', \n",
    "                 'instrumentalness', 'liveness', 'valence', 'tempo', 'type', 'id', 'uri', 'track_href', \n",
    "                 'analysis_url', 'duration_ms', 'time_signature']\n",
    "\n",
    "features_df = pd.DataFrame(columns=column_labels)"
   ]
  },
  {
   "cell_type": "code",
   "execution_count": 1,
   "metadata": {},
   "outputs": [
    {
     "ename": "NameError",
     "evalue": "name 'unique_songs' is not defined",
     "output_type": "error",
     "traceback": [
      "\u001b[0;31m---------------------------------------------------------------------------\u001b[0m",
      "\u001b[0;31mNameError\u001b[0m                                 Traceback (most recent call last)",
      "\u001b[0;32m<ipython-input-1-0246f91ea478>\u001b[0m in \u001b[0;36m<module>\u001b[0;34m\u001b[0m\n\u001b[0;32m----> 1\u001b[0;31m \u001b[0;32mfor\u001b[0m \u001b[0msong\u001b[0m \u001b[0;32min\u001b[0m \u001b[0munique_songs\u001b[0m\u001b[0;34m:\u001b[0m\u001b[0;34m\u001b[0m\u001b[0;34m\u001b[0m\u001b[0m\n\u001b[0m\u001b[1;32m      2\u001b[0m     \u001b[0muri\u001b[0m \u001b[0;34m=\u001b[0m \u001b[0mget_spotify_uri\u001b[0m\u001b[0;34m(\u001b[0m\u001b[0msong\u001b[0m\u001b[0;34m)\u001b[0m\u001b[0;34m\u001b[0m\u001b[0;34m\u001b[0m\u001b[0m\n\u001b[1;32m      3\u001b[0m     \u001b[0mfeatures\u001b[0m \u001b[0;34m=\u001b[0m \u001b[0msp\u001b[0m\u001b[0;34m.\u001b[0m\u001b[0maudio_features\u001b[0m\u001b[0;34m(\u001b[0m\u001b[0;34m[\u001b[0m\u001b[0muri\u001b[0m\u001b[0;34m]\u001b[0m\u001b[0;34m)\u001b[0m\u001b[0;34m[\u001b[0m\u001b[0;36m0\u001b[0m\u001b[0;34m]\u001b[0m\u001b[0;34m\u001b[0m\u001b[0;34m\u001b[0m\u001b[0m\n\u001b[1;32m      4\u001b[0m     \u001b[0mdataframe\u001b[0m \u001b[0;34m=\u001b[0m \u001b[0mpd\u001b[0m\u001b[0;34m.\u001b[0m\u001b[0mDataFrame\u001b[0m\u001b[0;34m(\u001b[0m\u001b[0mdata\u001b[0m\u001b[0;34m=\u001b[0m\u001b[0mfeatures\u001b[0m\u001b[0;34m,\u001b[0m \u001b[0mindex\u001b[0m\u001b[0;34m=\u001b[0m\u001b[0;34m[\u001b[0m\u001b[0msong\u001b[0m\u001b[0;34m]\u001b[0m\u001b[0;34m)\u001b[0m\u001b[0;34m\u001b[0m\u001b[0;34m\u001b[0m\u001b[0m\n\u001b[1;32m      5\u001b[0m     \u001b[0mfeatures_df\u001b[0m \u001b[0;34m=\u001b[0m \u001b[0mfeatures_df\u001b[0m\u001b[0;34m.\u001b[0m\u001b[0mappend\u001b[0m\u001b[0;34m(\u001b[0m\u001b[0mdataframe\u001b[0m\u001b[0;34m,\u001b[0m \u001b[0msort\u001b[0m\u001b[0;34m=\u001b[0m\u001b[0;32mFalse\u001b[0m\u001b[0;34m)\u001b[0m\u001b[0;34m\u001b[0m\u001b[0;34m\u001b[0m\u001b[0m\n",
      "\u001b[0;31mNameError\u001b[0m: name 'unique_songs' is not defined"
     ]
    }
   ],
   "source": [
    "for song in unique_songs:\n",
    "    uri = get_spotify_uri(song)\n",
    "    features = sp.audio_features([uri])[0]\n",
    "    dataframe = pd.DataFrame(data=features, index=[song])\n",
    "    features_df = features_df.append(dataframe, sort=False)"
   ]
  },
  {
   "cell_type": "code",
   "execution_count": 49,
   "metadata": {},
   "outputs": [],
   "source": [
    "features_df.to_csv('./features/features.csv', index=True)"
   ]
  }
 ],
 "metadata": {
  "kernelspec": {
   "display_name": "Python 3",
   "language": "python",
   "name": "python3"
  },
  "language_info": {
   "codemirror_mode": {
    "name": "ipython",
    "version": 3
   },
   "file_extension": ".py",
   "mimetype": "text/x-python",
   "name": "python",
   "nbconvert_exporter": "python",
   "pygments_lexer": "ipython3",
   "version": "3.7.4"
  }
 },
 "nbformat": 4,
 "nbformat_minor": 2
}
