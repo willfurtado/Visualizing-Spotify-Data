{
 "cells": [
  {
   "cell_type": "markdown",
   "metadata": {},
   "source": [
    "# Exploratory Data Analysis: Spotify Listening"
   ]
  },
  {
   "cell_type": "markdown",
   "metadata": {},
   "source": [
    "As both an avid Spotify user and a lover of all-things-data, I have always wanted to deep-dive into my own listening habits via data science. Were there any patterns that I had never noticed? Does my streaming data match how I personally feel about my music taste? What kind of listener am I?\n",
    "\n",
    "In order to explore who I was as a music listener, I requested the available data for my personal Spotify account. The following notebook follows through my process of exploratory data analysis, with particular focus on my streaming history."
   ]
  },
  {
   "cell_type": "code",
   "execution_count": null,
   "metadata": {},
   "outputs": [],
   "source": [
    "import numpy as np\n",
    "import pandas as pd\n",
    "import seaborn as sns\n",
    "import json\n",
    "import time\n",
    "import matplotlib.pyplot as plt\n",
    "\n",
    "from pandas.plotting import register_matplotlib_converters\n",
    "register_matplotlib_converters()"
   ]
  },
  {
   "cell_type": "markdown",
   "metadata": {},
   "source": [
    "## Loading the dataset"
   ]
  },
  {
   "cell_type": "code",
   "execution_count": null,
   "metadata": {},
   "outputs": [],
   "source": [
    "def load_streaming_data(src):\n",
    "    \"\"\"\n",
    "    Returns a Pandas DataFrame object with the current listening history \n",
    "    from Spotify data pull. The src argument is the folder in which the data is stored.\n",
    "    \"\"\"\n",
    "    with open(f'../data/personal/{src}/StreamingHistory0.json') as file:\n",
    "        data = json.load(file)\n",
    "    with open(f'../data/personal/{src}/StreamingHistory0.json') as file:\n",
    "        data1 = json.load(file)\n",
    "        \n",
    "    df0 = pd.DataFrame(data)\n",
    "    df1 = pd.DataFrame(data1)\n",
    "    df = df0.append(df1, ignore_index=True)\n",
    "    df['secPlayed'] = round(df['msPlayed'] / 1000, 1)\n",
    "    df = df.drop(columns=['msPlayed'])\n",
    "\n",
    "    STRTIME_FORMAT = '%Y-%m-%d %H:%M'\n",
    "    df['endTime'] = pd.to_datetime(df['endTime'], format=STRTIME_FORMAT)\n",
    "    \n",
    "    return df"
   ]
  },
  {
   "cell_type": "code",
   "execution_count": null,
   "metadata": {},
   "outputs": [],
   "source": [
    "df = load_streaming_data(\"summer20\")"
   ]
  },
  {
   "cell_type": "code",
   "execution_count": null,
   "metadata": {},
   "outputs": [],
   "source": [
    "print('INFORMATION ABOUT DATA: \\n') \n",
    "print(df.info())\n",
    "df.head()"
   ]
  },
  {
   "cell_type": "markdown",
   "metadata": {},
   "source": [
    "## General Exploratory Data Analysis"
   ]
  },
  {
   "cell_type": "markdown",
   "metadata": {},
   "source": [
    "### Daily Listening Time"
   ]
  },
  {
   "cell_type": "code",
   "execution_count": null,
   "metadata": {},
   "outputs": [],
   "source": [
    "daily = df.groupby(pd.Grouper(key='endTime', freq='D')).sum()\n",
    "daily['minPlayed'] = daily['secPlayed'] / 60"
   ]
  },
  {
   "cell_type": "code",
   "execution_count": null,
   "metadata": {},
   "outputs": [],
   "source": [
    "# Showing elementary statistics\n",
    "daily.describe()"
   ]
  },
  {
   "cell_type": "code",
   "execution_count": null,
   "metadata": {},
   "outputs": [],
   "source": [
    "plt.figure(figsize=(20,10))\n",
    "sns.lineplot(x=daily.index, y='minPlayed', data=daily)\n",
    "plt.xticks(rotation=45);\n",
    "plt.xlabel('Date', fontsize='x-large')\n",
    "plt.ylabel('Time Played (Minutes)', fontsize='x-large')\n",
    "plt.title('Daily Listening Times (Spotify)', pad=20);\n",
    "#plt.savefig('daily_listening', bbox_inches='tight', dpi=300);"
   ]
  },
  {
   "cell_type": "markdown",
   "metadata": {},
   "source": [
    "### Monthly Listening Time"
   ]
  },
  {
   "cell_type": "code",
   "execution_count": null,
   "metadata": {},
   "outputs": [],
   "source": [
    "weekly = df.groupby(pd.Grouper(key='endTime', freq='W-MON')).sum()\n",
    "weekly['hrPlayed'] = weekly['secPlayed'] / 3600"
   ]
  },
  {
   "cell_type": "code",
   "execution_count": null,
   "metadata": {},
   "outputs": [],
   "source": [
    "plt.figure(figsize=(12,10))\n",
    "sns.lineplot(x=weekly.index, y='hrPlayed', data=weekly)\n",
    "plt.xticks(rotation=45);\n",
    "plt.xlabel('Date', fontsize='x-large')\n",
    "plt.ylabel('Time Played (Hours)', fontsize='x-large')\n",
    "plt.title('Weekly Listening Times (Spotify)', pad=20);\n",
    "#plt.savefig('weekly_listening', bbox_inches='tight', dpi=300)"
   ]
  },
  {
   "cell_type": "markdown",
   "metadata": {},
   "source": [
    "When was the highest peak in the chart above? Somewhere between March 2020 and May 2020. Let's find out the exact week!"
   ]
  },
  {
   "cell_type": "code",
   "execution_count": null,
   "metadata": {},
   "outputs": [],
   "source": [
    "weekly['hrPlayed'].sort_values(ascending=False).head(1)"
   ]
  },
  {
   "cell_type": "markdown",
   "metadata": {},
   "source": [
    "It looks like during the week of April 6th `2020-04-06` I played a total of `35.436806` hours of music and podcasts!"
   ]
  },
  {
   "cell_type": "markdown",
   "metadata": {},
   "source": [
    "# Podcast Analysis"
   ]
  },
  {
   "cell_type": "markdown",
   "metadata": {},
   "source": [
    "Since (at the time of downloading this data) the music and podcast listening history is not separate, it is necessary to make this distinction in order to perform EDA on each separately."
   ]
  },
  {
   "cell_type": "code",
   "execution_count": null,
   "metadata": {},
   "outputs": [],
   "source": [
    "### Below is a list of all the artists who made podcasts\n",
    "\n",
    "PODCAST_ARTISTS = ['VIEWS with David Dobrik and Jason Nash', 'The California Golden Bearcast', \n",
    "                 'Whiskey Ginger w/ Andrew Santino', 'The Tiny Meat Gang Podcast',\n",
    "                 'Stuff You Should Know','Patriots Unfiltered','Cal Rivals Excellent Podcast Experience',\n",
    "                 'Curious with Josh Peck','Locked On Patriots - Daily Podcast On The New England Patriots',\n",
    "                 'Skotcast with Jeff Wittek & Scotty Sire','Anything Goes with Emma Chamberlain',\n",
    "                 'Call Her Daddy', 'Office Ladies', 'That Made All the Difference','Pardon My Take', \n",
    "                  'My Favorite Theorem', 'The James Altucher Show', 'Zane and Heath: Unfiltered',\n",
    "                   'With Authority','The Numberphile Podcast', 'Billionaires Getting Interviewed',\n",
    "                  'Elon Musk Interviews','Cover 3 College Football Podcast']"
   ]
  },
  {
   "cell_type": "code",
   "execution_count": null,
   "metadata": {},
   "outputs": [],
   "source": [
    "podcasts = df[df['artistName'].isin(PODCAST_ARTISTS)].reset_index(drop=True)\n",
    "print('INFORMATION ABOUT PODCASTS: \\n') \n",
    "print(podcasts.info())\n",
    "podcasts.head()"
   ]
  },
  {
   "cell_type": "code",
   "execution_count": null,
   "metadata": {},
   "outputs": [],
   "source": [
    "podcasts_top_10 = podcasts.groupby('artistName').sum().sort_values('secPlayed', ascending=False)[:10]"
   ]
  },
  {
   "cell_type": "code",
   "execution_count": null,
   "metadata": {},
   "outputs": [],
   "source": [
    "plt.figure(figsize=(15,10))\n",
    "sns.barplot(x='secPlayed', y=podcasts_top_10.index, data=podcasts_top_10, orient='h', palette='plasma')\n",
    "plt.xlabel('Time Played (seconds)', fontsize='x-large')\n",
    "plt.ylabel('Podcast Title', fontsize='x-large')\n",
    "plt.title('Top 10 Podcasts (Listening Time)', pad=20, fontsize='xx-large')\n",
    "#plt.savefig('top_10_podcasts', bbox_inches='tight', dpi=300)"
   ]
  },
  {
   "cell_type": "markdown",
   "metadata": {},
   "source": [
    "### Views with David Dobrik and Jason Nash"
   ]
  },
  {
   "cell_type": "markdown",
   "metadata": {},
   "source": [
    "The most popular podcast that I listen to. In order to perform EDA on the music side of things, I will have to separate all podcasts (including this one)."
   ]
  },
  {
   "cell_type": "code",
   "execution_count": null,
   "metadata": {},
   "outputs": [],
   "source": [
    "views_podcast = df[df['artistName'] == 'VIEWS with David Dobrik and Jason Nash']\n",
    "views_podcast.head()"
   ]
  },
  {
   "cell_type": "code",
   "execution_count": null,
   "metadata": {},
   "outputs": [],
   "source": [
    "views_top_15 = views_podcast.groupby('trackName').sum().sort_values('secPlayed', ascending=False)[:15]"
   ]
  },
  {
   "cell_type": "code",
   "execution_count": null,
   "metadata": {},
   "outputs": [],
   "source": [
    "### Horizontal Bar Chart Showing distributed listening time of the Views Podcast \n",
    "### broken down into the top fifteen episodes\n",
    "\n",
    "plt.figure(figsize=(15,10))\n",
    "plt.xlim(4000,8000)\n",
    "sns.barplot(x='secPlayed', y=views_top_15.index, data=views_top_15, orient='h', palette='bone')\n",
    "plt.xlabel('Time Played (seconds)')\n",
    "plt.ylabel('Podcast Episode')\n",
    "plt.title('Views Podcast Listening Times', pad=20);\n",
    "#plt.savefig('views_listening', bbox_inches='tight', dpi=500)"
   ]
  },
  {
   "cell_type": "markdown",
   "metadata": {},
   "source": [
    "### The Numberphile Podcast"
   ]
  },
  {
   "cell_type": "markdown",
   "metadata": {},
   "source": [
    "Another podcast that I listen to quite a bit..."
   ]
  },
  {
   "cell_type": "code",
   "execution_count": null,
   "metadata": {},
   "outputs": [],
   "source": [
    "numberphile_podcast = df[df['artistName'] == 'The Numberphile Podcast']\n",
    "numberphile_podcast.head()"
   ]
  },
  {
   "cell_type": "code",
   "execution_count": null,
   "metadata": {},
   "outputs": [],
   "source": [
    "numberphile_top_15 = numberphile_podcast.groupby('trackName').sum().sort_values('secPlayed', ascending=False)[:15]\n",
    "numberphile_top_15"
   ]
  },
  {
   "cell_type": "code",
   "execution_count": null,
   "metadata": {},
   "outputs": [],
   "source": [
    "plt.figure(figsize=(15,10))\n",
    "sns.barplot(x='secPlayed', y=numberphile_top_15.index, data=numberphile_top_15, orient='h', palette='bone')\n",
    "plt.xlabel('Time Played (seconds)')\n",
    "plt.ylabel('Podcast Episode')\n",
    "plt.title('The Numberphile Podcast Listening Times', pad=20);\n",
    "#plt.savefig('numberphile_listening', bbox_inches='tight', dpi=500)"
   ]
  },
  {
   "cell_type": "markdown",
   "metadata": {},
   "source": [
    "In order to isolate the podcasts, we must group by the average time played for each artist in order to find the longer forms of media (i.e. podcasts, talk shows). From there, we must manually investigate to find all the artists within the `artistName` column that correspond to Podcasts."
   ]
  },
  {
   "cell_type": "code",
   "execution_count": null,
   "metadata": {},
   "outputs": [],
   "source": [
    "df.groupby('artistName').mean().sort_values('secPlayed', ascending=False).head(25)"
   ]
  },
  {
   "cell_type": "markdown",
   "metadata": {},
   "source": [
    "# Music Analysis"
   ]
  },
  {
   "cell_type": "markdown",
   "metadata": {},
   "source": [
    "### Loading the DataFrame"
   ]
  },
  {
   "cell_type": "code",
   "execution_count": null,
   "metadata": {},
   "outputs": [],
   "source": [
    "WHITE_NOISE = ['Nature Sounds', 'Sounds Of Nature : Thunderstorm, Rain','Calmsound']"
   ]
  },
  {
   "cell_type": "code",
   "execution_count": null,
   "metadata": {},
   "outputs": [],
   "source": [
    "music = df[~df['artistName'].isin(PODCAST_ARTISTS + WHITE_NOISE)]\n",
    "print('INFORMATION ABOUT MUSIC DATAFRAME: \\n')\n",
    "print(music.info())\n",
    "music.head()"
   ]
  },
  {
   "cell_type": "code",
   "execution_count": null,
   "metadata": {},
   "outputs": [],
   "source": [
    "music[music['trackName'].str.contains('rain', case=False)]"
   ]
  },
  {
   "cell_type": "markdown",
   "metadata": {},
   "source": [
    "### Most Listened To Artists"
   ]
  },
  {
   "cell_type": "code",
   "execution_count": null,
   "metadata": {},
   "outputs": [],
   "source": [
    "music_top_10 = music.groupby('artistName').sum().sort_values('secPlayed', ascending=False)[:10]"
   ]
  },
  {
   "cell_type": "code",
   "execution_count": null,
   "metadata": {},
   "outputs": [],
   "source": [
    "plt.figure(figsize=(15,10))\n",
    "sns.barplot(x=music_top_10.index, y='secPlayed', data=music_top_10, palette='plasma')\n",
    "plt.xticks(rotation=45);\n",
    "plt.title('Top 10 Musical Artists',pad=20);"
   ]
  },
  {
   "cell_type": "markdown",
   "metadata": {},
   "source": [
    "### Drake vs. Billie Eilish: A/B Testing"
   ]
  },
  {
   "cell_type": "markdown",
   "metadata": {},
   "source": [
    "Is the difference in average listening time for either artist statistically significant? By performing a hypothesis test, we can find out!"
   ]
  },
  {
   "cell_type": "code",
   "execution_count": null,
   "metadata": {},
   "outputs": [],
   "source": [
    "drake_billie = music[music['artistName'].isin(['Drake','Billie Eilish'])]\n",
    "\n",
    "#Individual tables for plotting purposes\n",
    "drake, billie = music[music['artistName'] == 'Drake'], music[music['artistName'] == 'Billie Eilish']\n",
    "drake_billie.head()"
   ]
  },
  {
   "cell_type": "code",
   "execution_count": null,
   "metadata": {},
   "outputs": [],
   "source": [
    "### Plotting distributions of play time of each play of Drake, Billie Eilish\n",
    "\n",
    "plt.figure(figsize=(15,10))\n",
    "sns.distplot(drake['secPlayed'], bins=10, label='Drake')\n",
    "sns.distplot(billie['secPlayed'], bins=10, label='Billie Eilish')\n",
    "plt.xlim(0,500)\n",
    "plt.title('Drake vs. Billie Eilish Listen Time', pad=20)\n",
    "plt.legend();"
   ]
  },
  {
   "cell_type": "markdown",
   "metadata": {},
   "source": [
    "### Hypothesis Definitions"
   ]
  },
  {
   "cell_type": "markdown",
   "metadata": {},
   "source": [
    "**Null Hypothesis:** The average listening times of both Drake and Billie Eilish come from the same underlying distribution; any difference is due to random chance.\n",
    "\n",
    "**Alternative Hypothesis:** The average listening times of hoth Drake and Billie Eilish come from *different* underlying distributions.\n",
    "\n",
    "**Test Statistic:** Difference of means between average listen time of Drake and Billie Eilish."
   ]
  },
  {
   "cell_type": "code",
   "execution_count": null,
   "metadata": {},
   "outputs": [],
   "source": [
    "def calculate_ts(df, group_label, col_label):\n",
    "    \"\"\"Calculates the desired test statistic given a grouping label and a column label\"\"\"\n",
    "    grouped_df = df.groupby(group_label).mean()\n",
    "    test_stat = round(grouped_df[col_label][0]-grouped_df[col_label][1], 2)\n",
    "    return test_stat\n",
    "\n",
    "def shuffle_table(df,col_label):\n",
    "    \"\"\"Shuffles a given DataFrame in a random order based on the given column label\"\"\"\n",
    "    new_df = df.copy()\n",
    "    shuffled_df = new_df.sample(frac=1, replace=False).reset_index(drop=True)\n",
    "    shuffled_labels = shuffled_df[col_label]\n",
    "    new_df[col_label] = list(shuffled_labels)\n",
    "    return new_df\n",
    "\n",
    "def do_ab_test(df, group_label, col_label):\n",
    "    \"\"\"Performs a permutation test and returns one single test statistic\"\"\"\n",
    "    shuffled = shuffle_table(df, col_label)\n",
    "    test_stat = calculate_ts(shuffled, group_label, col_label)\n",
    "    return test_stat\n",
    "\n",
    "def do_all_analysis():\n",
    "    \"\"\"Performs all above functions in order to conclude statistical significance\"\"\"\n",
    "    list_ts = []\n",
    "    for _ in range(1000):\n",
    "        list_ts.append(do_ab_test(drake_billie, 'artistName', 'secPlayed'))\n",
    "\n",
    "    p_val = sum(list_ts >= ORIGINAL_TEST_STAT) / len(list_ts)\n",
    "    print('P-Value: \\n', p_val, '\\n')\n",
    "\n",
    "    if p_val <= 0.05:\n",
    "        print('Conclusion: \\n Statistically significant')\n",
    "        print(' The data favor the alternative hypothesis')\n",
    "    else:\n",
    "        print('Conclusion: \\n Not statistically significant')\n",
    "        print('  The data favor the null hypothesis')\n",
    "    \n",
    "    plt.figure(figsize=(15,10))\n",
    "    sns.distplot(list_ts)\n",
    "    plt.vlines(ORIGINAL_TEST_STAT,0, 0.07,color='blue',linestyles='dashed',label='Observed Test Statistic')\n",
    "    plt.title('Distribution of Test Statistic',pad=20)\n",
    "    plt.legend(loc='upper left');"
   ]
  },
  {
   "cell_type": "code",
   "execution_count": null,
   "metadata": {},
   "outputs": [],
   "source": [
    "ORIGINAL_TEST_STAT = calculate_ts(drake_billie, 'artistName', 'secPlayed')\n",
    "print('The Original Test Statistic is: {}'.format(ORIGINAL_TEST_STAT))"
   ]
  },
  {
   "cell_type": "code",
   "execution_count": null,
   "metadata": {},
   "outputs": [],
   "source": [
    "do_all_analysis()"
   ]
  },
  {
   "cell_type": "markdown",
   "metadata": {},
   "source": [
    "### Top Songs of 2020 (so far)"
   ]
  },
  {
   "cell_type": "code",
   "execution_count": null,
   "metadata": {},
   "outputs": [],
   "source": [
    "### Reduced the table to only include streams from 2020\n",
    "\n",
    "twenty_twenty = music.iloc[10085:].reset_index(drop=True)\n",
    "twenty_twenty['minPlayed'] = twenty_twenty['secPlayed'] / 60\n",
    "print('INFORMATION ABOUT 2020 DATAFRAME: \\n') \n",
    "print(twenty_twenty.info())\n",
    "twenty_twenty.head()"
   ]
  },
  {
   "cell_type": "code",
   "execution_count": null,
   "metadata": {},
   "outputs": [],
   "source": [
    "top_20_of_2020 = twenty_twenty.groupby('trackName').sum().sort_values('minPlayed', ascending=False).head(20)"
   ]
  },
  {
   "cell_type": "code",
   "execution_count": null,
   "metadata": {
    "scrolled": true
   },
   "outputs": [],
   "source": [
    "plt.figure(figsize=(15,10))\n",
    "sns.barplot(x='minPlayed', y=top_20_of_2020.index, data=top_20_of_2020, palette='autumn');"
   ]
  },
  {
   "cell_type": "code",
   "execution_count": null,
   "metadata": {},
   "outputs": [],
   "source": [
    "longest_songs = music.groupby(['trackName','artistName']).max().sort_values('secPlayed', ascending=False)\n",
    "longest_songs.head()"
   ]
  },
  {
   "cell_type": "code",
   "execution_count": null,
   "metadata": {},
   "outputs": [],
   "source": [
    "top_artists = music.groupby('artistName').sum().sort_values('secPlayed', ascending=False)[:10]\n",
    "top_artists.head()"
   ]
  }
 ],
 "metadata": {
  "kernelspec": {
   "display_name": "Python 3 (ipykernel)",
   "language": "python",
   "name": "python3"
  },
  "language_info": {
   "codemirror_mode": {
    "name": "ipython",
    "version": 3
   },
   "file_extension": ".py",
   "mimetype": "text/x-python",
   "name": "python",
   "nbconvert_exporter": "python",
   "pygments_lexer": "ipython3",
   "version": "3.9.11"
  }
 },
 "nbformat": 4,
 "nbformat_minor": 2
}
