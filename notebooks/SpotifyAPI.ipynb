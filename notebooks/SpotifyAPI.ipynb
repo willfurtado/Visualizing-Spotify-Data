{
 "cells": [
  {
   "cell_type": "markdown",
   "metadata": {},
   "source": [
    "# Accessing Feature Data via Spotify API"
   ]
  },
  {
   "cell_type": "markdown",
   "metadata": {},
   "source": [
    "In order to explore my listening data at a finer granularity, I wanted to access the audio features of each track that I had listened to in the past year. To do so, I needed to format a GET request to the Spotify Web API. By using a Python library, `spotipy`, I am able to access Spotify's API via Python scripts.\n",
    "\n",
    "The following notebook shows the general workflow for obtaining the features of a given track."
   ]
  },
  {
   "cell_type": "markdown",
   "metadata": {},
   "source": [
    "## Dependencies and Utility Functions"
   ]
  },
  {
   "cell_type": "code",
   "execution_count": null,
   "metadata": {},
   "outputs": [],
   "source": [
    "import json\n",
    "import time\n",
    "import spotipy\n",
    "import numpy as np\n",
    "import pandas as pd\n",
    "import seaborn as sns\n",
    "import matplotlib.pyplot as plt\n",
    "\n",
    "\n",
    "from spotipy.oauth2 import SpotifyOAuth\n",
    "from credentials import SPOTIPY_CLIENT_ID, SPOTIPY_CLIENT_SECRET, SPOTIPY_REDIRECT_URI"
   ]
  },
  {
   "cell_type": "code",
   "execution_count": null,
   "metadata": {},
   "outputs": [],
   "source": [
    "def get_spotify_uri(song):\n",
    "    \"\"\"Returns the corresponding spotify URI from a given song title\n",
    "    \n",
    "    Parameters:\n",
    "        song (str): The human-readable name of a given Spotify track\n",
    "    \n",
    "    Returns:\n",
    "        (str): The URI for the input track\n",
    "    \"\"\"\n",
    "    if song in DIFFICULT_SONGS:\n",
    "        search_results = sp.search(q=DIFFICULT_SONGS[song], type='track', limit=1)\n",
    "    elif song in UNSEARCHABLE_SONGS:\n",
    "        return UNSEARCHABLE_SONGS[song]\n",
    "    else:\n",
    "        search_results = sp.search(q=song, type='track', limit=1)\n",
    "    try:\n",
    "        return search_results['tracks']['items'][0]['id']\n",
    "    except (AttributeError, IndexError) as err:\n",
    "        print(f'No results for {song}')\n",
    "        return"
   ]
  },
  {
   "cell_type": "code",
   "execution_count": null,
   "metadata": {},
   "outputs": [],
   "source": [
    "PODCAST_ARTISTS = ['VIEWS with David Dobrik and Jason Nash', 'The California Golden Bearcast', \n",
    "                 'Whiskey Ginger w/ Andrew Santino', 'The Tiny Meat Gang Podcast',\n",
    "                 'Stuff You Should Know','Patriots Unfiltered','Cal Rivals Excellent Podcast Experience',\n",
    "                 'Curious with Josh Peck','Locked On Patriots - Daily Podcast On The New England Patriots',\n",
    "                 'Skotcast with Jeff Wittek & Scotty Sire','Anything Goes with Emma Chamberlain',\n",
    "                 'Call Her Daddy', 'Office Ladies', 'That Made All the Difference','Pardon My Take', \n",
    "                  'My Favorite Theorem', 'The James Altucher Show', 'Zane and Heath: Unfiltered',\n",
    "                   'With Authority','The Numberphile Podcast', 'Billionaires Getting Interviewed',\n",
    "                  'Elon Musk Interviews','Cover 3 College Football Podcast']\n",
    "\n",
    "WHITE_NOISE = ['Nature Sounds', 'Sounds Of Nature : Thunderstorm, Rain','Calmsound']\n",
    "\n",
    "DIFFICULT_SONGS = {'I Know (feat. Mick Jenkins)': 'I Know Mick Jenkins', \n",
    "                   'Take Me Home, Country Roads - Rerecorded': 'Take Me Home Country Roads',\n",
    "                  'Chica Paranormal - Verdun Remix': 'Chica Paranormal'}\n",
    "\n",
    "UNSEARCHABLE_SONGS = {'!!!!!!!':'0rQtoQXQfwpDW0c7Fw1NeM'}\n",
    "\n",
    "SCOPE = \"user-library-read\""
   ]
  },
  {
   "cell_type": "markdown",
   "metadata": {},
   "source": [
    "## Loading Data"
   ]
  },
  {
   "cell_type": "markdown",
   "metadata": {},
   "source": [
    "Instantiate our `Spotipy` object with the appropriate client ID and secret."
   ]
  },
  {
   "cell_type": "code",
   "execution_count": null,
   "metadata": {},
   "outputs": [],
   "source": [
    "sp = spotipy.Spotify(auth_manager=SpotifyOAuth(scope=scope, \n",
    "    client_id=SPOTIPY_CLIENT_ID, \n",
    "    client_secret=SPOTIPY_CLIENT_SECRET,\n",
    "    redirect_uri=SPOTIPY_REDIRECT_URI))"
   ]
  },
  {
   "cell_type": "markdown",
   "metadata": {},
   "source": [
    "Read in our raw listening data (in JSON format). The raw data files can be viewed in the `data/personal` folder."
   ]
  },
  {
   "cell_type": "code",
   "execution_count": null,
   "metadata": {},
   "outputs": [],
   "source": [
    "with open('../data/personal/summer20/StreamingHistory0.json') as file:\n",
    "    data = json.load(file)\n",
    "df0 = pd.DataFrame(data)\n",
    "\n",
    "with open('../data/personal/summer20/StreamingHistory1.json') as file:\n",
    "    data1 = json.load(file)\n",
    "df1 = pd.DataFrame(data1)\n",
    "\n",
    "df = df0.append(df1, ignore_index=True)"
   ]
  },
  {
   "cell_type": "markdown",
   "metadata": {},
   "source": [
    "Now, let's apply some functions to our DataFrame in order to clean up our data. We will do the following:\n",
    "- Convert the `msPlayed` column into a `secPlayed` column\n",
    "- Format the `endTime` column to have type `pd.Timestamp`\n",
    "- Split DataFrame into two: `music` and `podcasts`, each with their respective content"
   ]
  },
  {
   "cell_type": "code",
   "execution_count": null,
   "metadata": {},
   "outputs": [],
   "source": [
    "df['secPlayed'] = round(df['msPlayed'] / 1000, 1)\n",
    "df = df.drop(columns=['msPlayed'])\n",
    "STRTIME_FORMAT = '%Y-%m-%d %H:%M'\n",
    "df['endTime'] = pd.to_datetime(df['endTime'], format=STRTIME_FORMAT)\n",
    "\n",
    "music = df[~df['artistName'].isin(PODCAST_ARTISTS + WHITE_NOISE)].reset_index(drop=True)\n",
    "podcasts = df[df['artistName'].isin(PODCAST_ARTISTS)].reset_index(drop=True)"
   ]
  },
  {
   "cell_type": "markdown",
   "metadata": {},
   "source": [
    "## Building Features DataFrame"
   ]
  },
  {
   "cell_type": "code",
   "execution_count": null,
   "metadata": {},
   "outputs": [],
   "source": [
    "unique_songs = music.groupby('trackName').count().sort_values('secPlayed', ascending=False).index\n",
    "\n",
    "column_labels = ['danceability', 'energy', 'key', 'loudness', 'mode', 'speechiness', 'acousticness', \n",
    "                 'instrumentalness', 'liveness', 'valence', 'tempo', 'type', 'id', 'uri', 'track_href', \n",
    "                 'analysis_url', 'duration_ms', 'time_signature']"
   ]
  },
  {
   "cell_type": "code",
   "execution_count": null,
   "metadata": {},
   "outputs": [],
   "source": [
    "features_df = pd.DataFrame(columns=column_labels)\n",
    "\n",
    "for song in unique_songs:\n",
    "    uri = get_spotify_uri(song)\n",
    "    features = sp.audio_features([uri])[0]\n",
    "    dataframe = pd.DataFrame(data=features, index=[song])\n",
    "    features_df = features_df.append(dataframe, sort=False)"
   ]
  },
  {
   "cell_type": "markdown",
   "metadata": {},
   "source": [
    "Now that we have produced our `features_df`, let's save it locally."
   ]
  },
  {
   "cell_type": "code",
   "execution_count": null,
   "metadata": {},
   "outputs": [],
   "source": [
    "features_df.to_csv('../data/tops/features.csv', index=True)"
   ]
  }
 ],
 "metadata": {
  "kernelspec": {
   "display_name": "Python 3",
   "language": "python",
   "name": "python3"
  },
  "language_info": {
   "codemirror_mode": {
    "name": "ipython",
    "version": 3
   },
   "file_extension": ".py",
   "mimetype": "text/x-python",
   "name": "python",
   "nbconvert_exporter": "python",
   "pygments_lexer": "ipython3",
   "version": "3.7.4"
  }
 },
 "nbformat": 4,
 "nbformat_minor": 2
}
