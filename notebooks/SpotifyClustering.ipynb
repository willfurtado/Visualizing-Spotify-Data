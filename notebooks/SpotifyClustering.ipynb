{
 "cells": [
  {
   "cell_type": "markdown",
   "metadata": {},
   "source": [
    "# Visualizing Genres using Clustering Models"
   ]
  },
  {
   "cell_type": "code",
   "execution_count": null,
   "metadata": {},
   "outputs": [],
   "source": [
    "import pandas as pd\n",
    "import numpy as np\n",
    "import seaborn as sns\n",
    "import matplotlib.pyplot as plt\n",
    "\n",
    "from sklearn.decomposition import PCA\n",
    "from sklearn.preprocessing import StandardScaler\n",
    "from sklearn.cluster import KMeans\n",
    "from sklearn.manifold import TSNE"
   ]
  },
  {
   "cell_type": "markdown",
   "metadata": {},
   "source": [
    "## Data Pre-processing"
   ]
  },
  {
   "cell_type": "code",
   "execution_count": null,
   "metadata": {},
   "outputs": [],
   "source": [
    "spotify = pd.read_csv('../data/tops/features.csv',index_col=0)\n",
    "spotify.dropna(how='any', inplace=True)\n",
    "spotify.head()"
   ]
  },
  {
   "cell_type": "code",
   "execution_count": null,
   "metadata": {},
   "outputs": [],
   "source": [
    "features =['danceability','energy','key','loudness', 'mode', \n",
    "           'speechiness', 'acousticness', 'instrumentalness', \n",
    "           'liveness','valence','tempo','duration_ms', 'time_signature']\n",
    "\n",
    "x = spotify.loc[:,features].values\n",
    "x = StandardScaler().fit_transform(x)"
   ]
  },
  {
   "cell_type": "markdown",
   "metadata": {},
   "source": [
    "## Principal Component Analysis"
   ]
  },
  {
   "cell_type": "code",
   "execution_count": null,
   "metadata": {},
   "outputs": [],
   "source": [
    "pca = PCA(n_components=2)\n",
    "principal_components = pca.fit_transform(x)\n",
    "\n",
    "principal_df = pd.DataFrame(data=principal_components, columns=['principal_component_1', 'principal_component_2'])\n",
    "\n",
    "kmeans_pca = KMeans(n_clusters=8, random_state=0, init='random').fit(principal_df)\n",
    "predicted_pca = kmeans_pca.fit_predict(music_data_pca)\n",
    "\n",
    "principal_df['prediction'] = predicted_pca\n",
    "principal_df.set_index(keys=spotify.index, inplace=True)\n",
    "principal_df.head()"
   ]
  },
  {
   "cell_type": "code",
   "execution_count": null,
   "metadata": {},
   "outputs": [],
   "source": [
    "spotify['pca_pred'] = predicted_pca"
   ]
  },
  {
   "cell_type": "markdown",
   "metadata": {},
   "source": [
    "## t-SNE"
   ]
  },
  {
   "cell_type": "code",
   "execution_count": null,
   "metadata": {},
   "outputs": [],
   "source": [
    "tsne = TSNE(n_components=2)\n",
    "x_embedded = tsne.fit_transform(x)"
   ]
  },
  {
   "cell_type": "code",
   "execution_count": null,
   "metadata": {},
   "outputs": [],
   "source": [
    "x_embedded"
   ]
  },
  {
   "cell_type": "code",
   "execution_count": null,
   "metadata": {},
   "outputs": [],
   "source": [
    "tsne = TSNE(n_components=2)\n",
    "x_embedded = tsne.fit_transform(x)\n",
    "tsne_df = pd.DataFrame(data=x_embedded, columns=['tsne_1', 'tsne_2'])\n",
    "\n",
    "kmeans_tsne = KMeans(n_clusters=8, random_state=0, init='random').fit(tsne_df)\n",
    "predicted_tsne = kmeans_tsne.fit_predict(tsne_df)\n",
    "\n",
    "tsne_df['prediction'] = predicted_tsne\n",
    "tsne_df.set_index(keys=spotify.index, inplace=True)\n",
    "tsne_df.head()"
   ]
  },
  {
   "cell_type": "code",
   "execution_count": null,
   "metadata": {},
   "outputs": [],
   "source": [
    "spotify['tsne_pred'] = predicted_tsne"
   ]
  },
  {
   "cell_type": "markdown",
   "metadata": {},
   "source": [
    "## Grouped DataFrames"
   ]
  },
  {
   "cell_type": "code",
   "execution_count": null,
   "metadata": {},
   "outputs": [],
   "source": [
    "pred_0_pca = principal_df[principal_df['prediction'] == 0]\n",
    "pred_1_pca = principal_df[principal_df['prediction'] == 1]\n",
    "pred_2_pca = principal_df[principal_df['prediction'] == 2]\n",
    "pred_3_pca = principal_df[principal_df['prediction'] == 3]\n",
    "pred_4_pca = principal_df[principal_df['prediction'] == 4]\n",
    "\n",
    "pred_0_tsne = tsne_df[tsne_df['prediction'] == 0]\n",
    "pred_1_tsne = tsne_df[tsne_df['prediction'] == 1]\n",
    "pred_2_tsne = tsne_df[tsne_df['prediction'] == 2]\n",
    "pred_3_tsne = tsne_df[tsne_df['prediction'] == 3]\n",
    "pred_4_tsne = tsne_df[tsne_df['prediction'] == 4]"
   ]
  },
  {
   "cell_type": "markdown",
   "metadata": {},
   "source": [
    "## Comparison Plot"
   ]
  },
  {
   "cell_type": "code",
   "execution_count": null,
   "metadata": {},
   "outputs": [],
   "source": [
    "plt.figure(figsize=(20,10))\n",
    "plt.subplot(1,2,1)\n",
    "sns.scatterplot(x='principal_component_1', y='principal_component_2', data=principal_df, \n",
    "                hue='prediction', palette=sns.color_palette('hls',8), \n",
    "                style='prediction', markers=[\"X\",\"X\",\"X\",\"X\",\"X\",\"X\",\"X\",\"X\"])\n",
    "\n",
    "for center, i in zip(kmeans_pca.cluster_centers_, range(8)):\n",
    "    if not i:\n",
    "        plt.scatter(center[0], center[1], marker='*',s=200, c='black', label='Centroid')\n",
    "    else:\n",
    "        plt.scatter(center[0], center[1], marker='*',s=200, c='black')\n",
    "    \n",
    "plt.xlabel('First Principal Component (PCA)')\n",
    "plt.ylabel('Second Principal Component (PCA)')\n",
    "plt.title('k-Means Clustering via PCA', pad=20)\n",
    "plt.legend(shadow=True)\n",
    "\n",
    "plt.subplot(1,2,2)\n",
    "sns.scatterplot(x='tsne_1', y='tsne_2', data=tsne_df, \n",
    "                hue='prediction', palette=sns.color_palette('hls',8),\n",
    "                style='prediction', markers=['X','X','X','X','X','X','X','X'])\n",
    "\n",
    "for center, i in zip(kmeans_tsne.cluster_centers_, range(8)):\n",
    "    if not i:\n",
    "        plt.scatter(center[0], center[1], marker='*',s=200, c='black', label='Centroid')\n",
    "    else:\n",
    "        plt.scatter(center[0], center[1], marker='*',s=200, c='black')\n",
    "\n",
    "plt.xlabel('t-SNE One')\n",
    "plt.ylabel('t-SNE Two')\n",
    "plt.title('k-Means Clustering via t-SNE Reduction', pad=20)\n",
    "plt.legend(shadow=True)\n",
    "plt.show();"
   ]
  }
 ],
 "metadata": {
  "kernelspec": {
   "display_name": "Python 3",
   "language": "python",
   "name": "python3"
  },
  "language_info": {
   "codemirror_mode": {
    "name": "ipython",
    "version": 3
   },
   "file_extension": ".py",
   "mimetype": "text/x-python",
   "name": "python",
   "nbconvert_exporter": "python",
   "pygments_lexer": "ipython3",
   "version": "3.7.4"
  }
 },
 "nbformat": 4,
 "nbformat_minor": 2
}
