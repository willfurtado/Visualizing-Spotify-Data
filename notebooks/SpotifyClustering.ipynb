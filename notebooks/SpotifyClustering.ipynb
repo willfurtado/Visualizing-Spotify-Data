{
 "cells": [
  {
   "cell_type": "markdown",
   "metadata": {},
   "source": [
    "# Visualizing Genres using Clustering Models"
   ]
  },
  {
   "cell_type": "code",
   "execution_count": 1,
   "metadata": {},
   "outputs": [],
   "source": [
    "import pandas as pd\n",
    "import numpy as np\n",
    "import seaborn as sns\n",
    "import matplotlib.pyplot as plt\n",
    "\n",
    "from sklearn.decomposition import PCA\n",
    "from sklearn.preprocessing import StandardScaler\n",
    "from sklearn.cluster import KMeans\n",
    "from sklearn.manifold import TSNE"
   ]
  },
  {
   "cell_type": "markdown",
   "metadata": {},
   "source": [
    "## Data Pre-processing"
   ]
  },
  {
   "cell_type": "code",
   "execution_count": 2,
   "metadata": {},
   "outputs": [
    {
     "data": {
      "text/html": [
       "<div>\n",
       "<style scoped>\n",
       "    .dataframe tbody tr th:only-of-type {\n",
       "        vertical-align: middle;\n",
       "    }\n",
       "\n",
       "    .dataframe tbody tr th {\n",
       "        vertical-align: top;\n",
       "    }\n",
       "\n",
       "    .dataframe thead th {\n",
       "        text-align: right;\n",
       "    }\n",
       "</style>\n",
       "<table border=\"1\" class=\"dataframe\">\n",
       "  <thead>\n",
       "    <tr style=\"text-align: right;\">\n",
       "      <th></th>\n",
       "      <th>title</th>\n",
       "      <th>danceability</th>\n",
       "      <th>energy</th>\n",
       "      <th>key</th>\n",
       "      <th>loudness</th>\n",
       "      <th>mode</th>\n",
       "      <th>speechiness</th>\n",
       "      <th>acousticness</th>\n",
       "      <th>instrumentalness</th>\n",
       "      <th>liveness</th>\n",
       "      <th>valence</th>\n",
       "      <th>tempo</th>\n",
       "      <th>type</th>\n",
       "      <th>id</th>\n",
       "      <th>uri</th>\n",
       "      <th>track_href</th>\n",
       "      <th>analysis_url</th>\n",
       "      <th>duration_ms</th>\n",
       "      <th>time_signature</th>\n",
       "    </tr>\n",
       "  </thead>\n",
       "  <tbody>\n",
       "    <tr>\n",
       "      <th>0</th>\n",
       "      <td>Callaita</td>\n",
       "      <td>0.610</td>\n",
       "      <td>0.624</td>\n",
       "      <td>2.0</td>\n",
       "      <td>-4.773</td>\n",
       "      <td>1.0</td>\n",
       "      <td>0.3090</td>\n",
       "      <td>0.6000</td>\n",
       "      <td>0.000002</td>\n",
       "      <td>0.2430</td>\n",
       "      <td>0.244</td>\n",
       "      <td>176.169</td>\n",
       "      <td>audio_features</td>\n",
       "      <td>2TH65lNHgvLxCKXM3apjxI</td>\n",
       "      <td>spotify:track:2TH65lNHgvLxCKXM3apjxI</td>\n",
       "      <td>https://api.spotify.com/v1/tracks/2TH65lNHgvLx...</td>\n",
       "      <td>https://api.spotify.com/v1/audio-analysis/2TH6...</td>\n",
       "      <td>250534.0</td>\n",
       "      <td>4.0</td>\n",
       "    </tr>\n",
       "    <tr>\n",
       "      <th>1</th>\n",
       "      <td>Sacrifices (with EARTHGANG &amp; J. Cole feat. Smi...</td>\n",
       "      <td>0.825</td>\n",
       "      <td>0.672</td>\n",
       "      <td>0.0</td>\n",
       "      <td>-7.108</td>\n",
       "      <td>1.0</td>\n",
       "      <td>0.4180</td>\n",
       "      <td>0.0858</td>\n",
       "      <td>0.000000</td>\n",
       "      <td>0.1230</td>\n",
       "      <td>0.246</td>\n",
       "      <td>147.010</td>\n",
       "      <td>audio_features</td>\n",
       "      <td>7wTA0NKIm6T7nP2kaymU2a</td>\n",
       "      <td>spotify:track:7wTA0NKIm6T7nP2kaymU2a</td>\n",
       "      <td>https://api.spotify.com/v1/tracks/7wTA0NKIm6T7...</td>\n",
       "      <td>https://api.spotify.com/v1/audio-analysis/7wTA...</td>\n",
       "      <td>382307.0</td>\n",
       "      <td>4.0</td>\n",
       "    </tr>\n",
       "    <tr>\n",
       "      <th>2</th>\n",
       "      <td>Envy Me</td>\n",
       "      <td>0.740</td>\n",
       "      <td>0.488</td>\n",
       "      <td>1.0</td>\n",
       "      <td>-7.664</td>\n",
       "      <td>0.0</td>\n",
       "      <td>0.2700</td>\n",
       "      <td>0.2340</td>\n",
       "      <td>0.000000</td>\n",
       "      <td>0.2410</td>\n",
       "      <td>0.584</td>\n",
       "      <td>149.042</td>\n",
       "      <td>audio_features</td>\n",
       "      <td>7rvyVWja33WG9R97oeJAjx</td>\n",
       "      <td>spotify:track:7rvyVWja33WG9R97oeJAjx</td>\n",
       "      <td>https://api.spotify.com/v1/tracks/7rvyVWja33WG...</td>\n",
       "      <td>https://api.spotify.com/v1/audio-analysis/7rvy...</td>\n",
       "      <td>120133.0</td>\n",
       "      <td>4.0</td>\n",
       "    </tr>\n",
       "    <tr>\n",
       "      <th>3</th>\n",
       "      <td>Me Odias?</td>\n",
       "      <td>0.786</td>\n",
       "      <td>0.581</td>\n",
       "      <td>1.0</td>\n",
       "      <td>-6.387</td>\n",
       "      <td>0.0</td>\n",
       "      <td>0.1970</td>\n",
       "      <td>0.5520</td>\n",
       "      <td>0.000000</td>\n",
       "      <td>0.0859</td>\n",
       "      <td>0.330</td>\n",
       "      <td>131.874</td>\n",
       "      <td>audio_features</td>\n",
       "      <td>5I31UVARw4Di9SooJGN9el</td>\n",
       "      <td>spotify:track:5I31UVARw4Di9SooJGN9el</td>\n",
       "      <td>https://api.spotify.com/v1/tracks/5I31UVARw4Di...</td>\n",
       "      <td>https://api.spotify.com/v1/audio-analysis/5I31...</td>\n",
       "      <td>234550.0</td>\n",
       "      <td>4.0</td>\n",
       "    </tr>\n",
       "    <tr>\n",
       "      <th>4</th>\n",
       "      <td>Quiero</td>\n",
       "      <td>0.651</td>\n",
       "      <td>0.737</td>\n",
       "      <td>9.0</td>\n",
       "      <td>-7.416</td>\n",
       "      <td>1.0</td>\n",
       "      <td>0.0415</td>\n",
       "      <td>0.0447</td>\n",
       "      <td>0.000000</td>\n",
       "      <td>0.1560</td>\n",
       "      <td>0.703</td>\n",
       "      <td>104.832</td>\n",
       "      <td>audio_features</td>\n",
       "      <td>0iEW2LlHNXVyZhwO96sL3z</td>\n",
       "      <td>spotify:track:0iEW2LlHNXVyZhwO96sL3z</td>\n",
       "      <td>https://api.spotify.com/v1/tracks/0iEW2LlHNXVy...</td>\n",
       "      <td>https://api.spotify.com/v1/audio-analysis/0iEW...</td>\n",
       "      <td>209583.0</td>\n",
       "      <td>4.0</td>\n",
       "    </tr>\n",
       "  </tbody>\n",
       "</table>\n",
       "</div>"
      ],
      "text/plain": [
       "                                               title  danceability  energy   \n",
       "0                                           Callaita         0.610   0.624  \\\n",
       "1  Sacrifices (with EARTHGANG & J. Cole feat. Smi...         0.825   0.672   \n",
       "2                                            Envy Me         0.740   0.488   \n",
       "3                                          Me Odias?         0.786   0.581   \n",
       "4                                             Quiero         0.651   0.737   \n",
       "\n",
       "   key  loudness  mode  speechiness  acousticness  instrumentalness  liveness   \n",
       "0  2.0    -4.773   1.0       0.3090        0.6000          0.000002    0.2430  \\\n",
       "1  0.0    -7.108   1.0       0.4180        0.0858          0.000000    0.1230   \n",
       "2  1.0    -7.664   0.0       0.2700        0.2340          0.000000    0.2410   \n",
       "3  1.0    -6.387   0.0       0.1970        0.5520          0.000000    0.0859   \n",
       "4  9.0    -7.416   1.0       0.0415        0.0447          0.000000    0.1560   \n",
       "\n",
       "   valence    tempo            type                      id   \n",
       "0    0.244  176.169  audio_features  2TH65lNHgvLxCKXM3apjxI  \\\n",
       "1    0.246  147.010  audio_features  7wTA0NKIm6T7nP2kaymU2a   \n",
       "2    0.584  149.042  audio_features  7rvyVWja33WG9R97oeJAjx   \n",
       "3    0.330  131.874  audio_features  5I31UVARw4Di9SooJGN9el   \n",
       "4    0.703  104.832  audio_features  0iEW2LlHNXVyZhwO96sL3z   \n",
       "\n",
       "                                    uri   \n",
       "0  spotify:track:2TH65lNHgvLxCKXM3apjxI  \\\n",
       "1  spotify:track:7wTA0NKIm6T7nP2kaymU2a   \n",
       "2  spotify:track:7rvyVWja33WG9R97oeJAjx   \n",
       "3  spotify:track:5I31UVARw4Di9SooJGN9el   \n",
       "4  spotify:track:0iEW2LlHNXVyZhwO96sL3z   \n",
       "\n",
       "                                          track_href   \n",
       "0  https://api.spotify.com/v1/tracks/2TH65lNHgvLx...  \\\n",
       "1  https://api.spotify.com/v1/tracks/7wTA0NKIm6T7...   \n",
       "2  https://api.spotify.com/v1/tracks/7rvyVWja33WG...   \n",
       "3  https://api.spotify.com/v1/tracks/5I31UVARw4Di...   \n",
       "4  https://api.spotify.com/v1/tracks/0iEW2LlHNXVy...   \n",
       "\n",
       "                                        analysis_url  duration_ms   \n",
       "0  https://api.spotify.com/v1/audio-analysis/2TH6...     250534.0  \\\n",
       "1  https://api.spotify.com/v1/audio-analysis/7wTA...     382307.0   \n",
       "2  https://api.spotify.com/v1/audio-analysis/7rvy...     120133.0   \n",
       "3  https://api.spotify.com/v1/audio-analysis/5I31...     234550.0   \n",
       "4  https://api.spotify.com/v1/audio-analysis/0iEW...     209583.0   \n",
       "\n",
       "   time_signature  \n",
       "0             4.0  \n",
       "1             4.0  \n",
       "2             4.0  \n",
       "3             4.0  \n",
       "4             4.0  "
      ]
     },
     "execution_count": 2,
     "metadata": {},
     "output_type": "execute_result"
    }
   ],
   "source": [
    "spotify = pd.read_csv('../data/tops/features.csv',index_col=0)\n",
    "spotify.dropna(how='any', inplace=True)\n",
    "spotify.head()"
   ]
  },
  {
   "cell_type": "code",
   "execution_count": 3,
   "metadata": {},
   "outputs": [],
   "source": [
    "features =['danceability','energy','key','loudness', 'mode', \n",
    "           'speechiness', 'acousticness', 'instrumentalness', \n",
    "           'liveness','valence','tempo','duration_ms', 'time_signature']\n",
    "\n",
    "x = spotify.loc[:,features].values\n",
    "x = StandardScaler().fit_transform(x)"
   ]
  },
  {
   "cell_type": "markdown",
   "metadata": {},
   "source": [
    "## Principal Component Analysis"
   ]
  },
  {
   "cell_type": "code",
   "execution_count": 4,
   "metadata": {},
   "outputs": [
    {
     "ename": "NameError",
     "evalue": "name 'music_data_pca' is not defined",
     "output_type": "error",
     "traceback": [
      "\u001b[0;31m---------------------------------------------------------------------------\u001b[0m",
      "\u001b[0;31mNameError\u001b[0m                                 Traceback (most recent call last)",
      "Input \u001b[0;32mIn [4]\u001b[0m, in \u001b[0;36m<cell line: 7>\u001b[0;34m()\u001b[0m\n\u001b[1;32m      4\u001b[0m principal_df \u001b[38;5;241m=\u001b[39m pd\u001b[38;5;241m.\u001b[39mDataFrame(data\u001b[38;5;241m=\u001b[39mprincipal_components, columns\u001b[38;5;241m=\u001b[39m[\u001b[38;5;124m'\u001b[39m\u001b[38;5;124mprincipal_component_1\u001b[39m\u001b[38;5;124m'\u001b[39m, \u001b[38;5;124m'\u001b[39m\u001b[38;5;124mprincipal_component_2\u001b[39m\u001b[38;5;124m'\u001b[39m])\n\u001b[1;32m      6\u001b[0m kmeans_pca \u001b[38;5;241m=\u001b[39m KMeans(n_clusters\u001b[38;5;241m=\u001b[39m\u001b[38;5;241m8\u001b[39m, random_state\u001b[38;5;241m=\u001b[39m\u001b[38;5;241m0\u001b[39m, init\u001b[38;5;241m=\u001b[39m\u001b[38;5;124m'\u001b[39m\u001b[38;5;124mrandom\u001b[39m\u001b[38;5;124m'\u001b[39m)\u001b[38;5;241m.\u001b[39mfit(principal_df)\n\u001b[0;32m----> 7\u001b[0m predicted_pca \u001b[38;5;241m=\u001b[39m kmeans_pca\u001b[38;5;241m.\u001b[39mfit_predict(\u001b[43mmusic_data_pca\u001b[49m)\n\u001b[1;32m      9\u001b[0m principal_df[\u001b[38;5;124m'\u001b[39m\u001b[38;5;124mprediction\u001b[39m\u001b[38;5;124m'\u001b[39m] \u001b[38;5;241m=\u001b[39m predicted_pca\n\u001b[1;32m     10\u001b[0m principal_df\u001b[38;5;241m.\u001b[39mset_index(keys\u001b[38;5;241m=\u001b[39mspotify\u001b[38;5;241m.\u001b[39mindex, inplace\u001b[38;5;241m=\u001b[39m\u001b[38;5;28;01mTrue\u001b[39;00m)\n",
      "\u001b[0;31mNameError\u001b[0m: name 'music_data_pca' is not defined"
     ]
    }
   ],
   "source": [
    "pca = PCA(n_components=2)\n",
    "principal_components = pca.fit_transform(x)\n",
    "\n",
    "principal_df = pd.DataFrame(data=principal_components, columns=['principal_component_1', 'principal_component_2'])\n",
    "\n",
    "kmeans_pca = KMeans(n_clusters=8, random_state=0, init='random').fit(principal_df)\n",
    "predicted_pca = kmeans_pca.fit_predict(music_data_pca)\n",
    "\n",
    "principal_df['prediction'] = predicted_pca\n",
    "principal_df.set_index(keys=spotify.index, inplace=True)\n",
    "principal_df.head()"
   ]
  },
  {
   "cell_type": "code",
   "execution_count": null,
   "metadata": {},
   "outputs": [],
   "source": [
    "spotify['pca_pred'] = predicted_pca"
   ]
  },
  {
   "cell_type": "markdown",
   "metadata": {},
   "source": [
    "## t-SNE"
   ]
  },
  {
   "cell_type": "code",
   "execution_count": null,
   "metadata": {},
   "outputs": [],
   "source": [
    "tsne = TSNE(n_components=2)\n",
    "x_embedded = tsne.fit_transform(x)"
   ]
  },
  {
   "cell_type": "code",
   "execution_count": null,
   "metadata": {},
   "outputs": [],
   "source": [
    "x_embedded"
   ]
  },
  {
   "cell_type": "code",
   "execution_count": null,
   "metadata": {},
   "outputs": [],
   "source": [
    "tsne = TSNE(n_components=2)\n",
    "x_embedded = tsne.fit_transform(x)\n",
    "tsne_df = pd.DataFrame(data=x_embedded, columns=['tsne_1', 'tsne_2'])\n",
    "\n",
    "kmeans_tsne = KMeans(n_clusters=8, random_state=0, init='random').fit(tsne_df)\n",
    "predicted_tsne = kmeans_tsne.fit_predict(tsne_df)\n",
    "\n",
    "tsne_df['prediction'] = predicted_tsne\n",
    "tsne_df.set_index(keys=spotify.index, inplace=True)\n",
    "tsne_df.head()"
   ]
  },
  {
   "cell_type": "code",
   "execution_count": null,
   "metadata": {},
   "outputs": [],
   "source": [
    "spotify['tsne_pred'] = predicted_tsne"
   ]
  },
  {
   "cell_type": "markdown",
   "metadata": {},
   "source": [
    "## Grouped DataFrames"
   ]
  },
  {
   "cell_type": "code",
   "execution_count": null,
   "metadata": {},
   "outputs": [],
   "source": [
    "pred_0_pca = principal_df[principal_df['prediction'] == 0]\n",
    "pred_1_pca = principal_df[principal_df['prediction'] == 1]\n",
    "pred_2_pca = principal_df[principal_df['prediction'] == 2]\n",
    "pred_3_pca = principal_df[principal_df['prediction'] == 3]\n",
    "pred_4_pca = principal_df[principal_df['prediction'] == 4]\n",
    "\n",
    "pred_0_tsne = tsne_df[tsne_df['prediction'] == 0]\n",
    "pred_1_tsne = tsne_df[tsne_df['prediction'] == 1]\n",
    "pred_2_tsne = tsne_df[tsne_df['prediction'] == 2]\n",
    "pred_3_tsne = tsne_df[tsne_df['prediction'] == 3]\n",
    "pred_4_tsne = tsne_df[tsne_df['prediction'] == 4]"
   ]
  },
  {
   "cell_type": "markdown",
   "metadata": {},
   "source": [
    "## Comparison Plot"
   ]
  },
  {
   "cell_type": "code",
   "execution_count": null,
   "metadata": {},
   "outputs": [],
   "source": [
    "plt.figure(figsize=(20,10))\n",
    "plt.subplot(1,2,1)\n",
    "sns.scatterplot(x='principal_component_1', y='principal_component_2', data=principal_df, \n",
    "                hue='prediction', palette=sns.color_palette('hls',8), \n",
    "                style='prediction', markers=[\"X\",\"X\",\"X\",\"X\",\"X\",\"X\",\"X\",\"X\"])\n",
    "\n",
    "for center, i in zip(kmeans_pca.cluster_centers_, range(8)):\n",
    "    if not i:\n",
    "        plt.scatter(center[0], center[1], marker='*',s=200, c='black', label='Centroid')\n",
    "    else:\n",
    "        plt.scatter(center[0], center[1], marker='*',s=200, c='black')\n",
    "    \n",
    "plt.xlabel('First Principal Component (PCA)')\n",
    "plt.ylabel('Second Principal Component (PCA)')\n",
    "plt.title('k-Means Clustering via PCA', pad=20)\n",
    "plt.legend(shadow=True)\n",
    "\n",
    "plt.subplot(1,2,2)\n",
    "sns.scatterplot(x='tsne_1', y='tsne_2', data=tsne_df, \n",
    "                hue='prediction', palette=sns.color_palette('hls',8),\n",
    "                style='prediction', markers=['X','X','X','X','X','X','X','X'])\n",
    "\n",
    "for center, i in zip(kmeans_tsne.cluster_centers_, range(8)):\n",
    "    if not i:\n",
    "        plt.scatter(center[0], center[1], marker='*',s=200, c='black', label='Centroid')\n",
    "    else:\n",
    "        plt.scatter(center[0], center[1], marker='*',s=200, c='black')\n",
    "\n",
    "plt.xlabel('t-SNE One')\n",
    "plt.ylabel('t-SNE Two')\n",
    "plt.title('k-Means Clustering via t-SNE Reduction', pad=20)\n",
    "plt.legend(shadow=True)\n",
    "plt.show();"
   ]
  }
 ],
 "metadata": {
  "kernelspec": {
   "display_name": "Python 3 (ipykernel)",
   "language": "python",
   "name": "python3"
  },
  "language_info": {
   "codemirror_mode": {
    "name": "ipython",
    "version": 3
   },
   "file_extension": ".py",
   "mimetype": "text/x-python",
   "name": "python",
   "nbconvert_exporter": "python",
   "pygments_lexer": "ipython3",
   "version": "3.9.11"
  }
 },
 "nbformat": 4,
 "nbformat_minor": 2
}
