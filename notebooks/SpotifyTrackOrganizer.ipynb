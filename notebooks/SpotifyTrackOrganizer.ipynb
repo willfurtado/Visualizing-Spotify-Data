{
 "cells": [
  {
   "cell_type": "markdown",
   "metadata": {},
   "source": [
    "# Spotify Automatic Track Organization"
   ]
  },
  {
   "cell_type": "code",
   "execution_count": null,
   "metadata": {},
   "outputs": [],
   "source": [
    "import matplotlib.pyplot as plt\n",
    "import numpy as np\n",
    "import pandas as pd\n",
    "import seaborn as sns\n",
    "import json\n",
    "import time\n",
    "import spotipy\n",
    "import os\n",
    "\n",
    "from sklearn.preprocessing import OneHotEncoder, StandardScaler\n",
    "from sklearn.decomposition import PCA\n",
    "from sklearn.neighbors import KNeighborsClassifier\n",
    "from sklearn.cluster import KMeans\n",
    "from sklearn.model_selection import train_test_split\n",
    "from spotipy.oauth2 import SpotifyOAuth\n",
    "from credentials import *"
   ]
  },
  {
   "cell_type": "markdown",
   "metadata": {},
   "source": [
    "## Initializing `Spotipy` Access"
   ]
  },
  {
   "cell_type": "code",
   "execution_count": null,
   "metadata": {},
   "outputs": [],
   "source": [
    "scope = \"user-library-read\"\n",
    "\n",
    "sp = spotipy.Spotify(auth_manager=SpotifyOAuth(scope=scope, \n",
    "    client_id=SPOTIPY_CLIENT_ID, \n",
    "    client_secret=SPOTIPY_CLIENT_SECRET,\n",
    "    redirect_uri=SPOTIPY_REDIRECT_URI))"
   ]
  },
  {
   "cell_type": "markdown",
   "metadata": {},
   "source": [
    "## Utility Functions"
   ]
  },
  {
   "cell_type": "code",
   "execution_count": null,
   "metadata": {},
   "outputs": [],
   "source": [
    "def extract_playlists_from_user():\n",
    "    \"\"\"\n",
    "    Returns a dictionary of playlist URIs and their corresponding titles.\n",
    "    \"\"\"\n",
    "    playlists = sp.current_user_playlists()\n",
    "    d = {}\n",
    "    for playlist in playlists['items']:\n",
    "        d[playlist[\"uri\"]] = playlist['name']\n",
    "    \n",
    "    return d"
   ]
  },
  {
   "cell_type": "code",
   "execution_count": null,
   "metadata": {},
   "outputs": [],
   "source": [
    "def extract_songs_from_playlist(uri):\n",
    "    \"\"\"\n",
    "    Returns a dictionary of track URIs and their corresponding names given a playlist.\n",
    "    \"\"\"\n",
    "    playlist = sp.playlist_tracks(uri)\n",
    "    playlist_d = {}\n",
    "    for song in playlist['items']:\n",
    "        playlist_d[song['track']['id']] = song['track']['name']\n",
    "    \n",
    "    return playlist_d"
   ]
  },
  {
   "cell_type": "code",
   "execution_count": null,
   "metadata": {},
   "outputs": [],
   "source": [
    "def create_playlist_df(songs: dict):\n",
    "    \"\"\"\n",
    "    Returns a DataFrame representation of a given playlist.\n",
    "    \"\"\"\n",
    "    column_labels = ['danceability', 'energy', 'key', 'loudness', 'mode', 'speechiness', 'acousticness', \n",
    "                 'instrumentalness', 'liveness', 'valence', 'tempo', 'type', 'id', 'uri', 'track_href', \n",
    "                 'analysis_url', 'duration_ms', 'time_signature']\n",
    "\n",
    "    features_df = pd.DataFrame(columns=column_labels)\n",
    "    for (uri, title) in zip(songs.keys(), songs.values()):\n",
    "        features = sp.audio_features([uri])[0]\n",
    "        features_df = features_df.append(pd.DataFrame(data=features, index=[title]), sort=False)\n",
    "    \n",
    "    return features_df"
   ]
  },
  {
   "cell_type": "code",
   "execution_count": null,
   "metadata": {},
   "outputs": [],
   "source": [
    "def create_df_from_uri(uri):\n",
    "    \"\"\"\n",
    "    Ensemble function that combines songs extraction and DataFrame creation.\n",
    "    \"\"\"\n",
    "    songs = extract_songs_from_playlist(uri)\n",
    "    df = create_playlist_df(songs)\n",
    "    \n",
    "    return df"
   ]
  },
  {
   "cell_type": "code",
   "execution_count": null,
   "metadata": {},
   "outputs": [],
   "source": [
    "def clean_raw_df(df: pd.DataFrame, pipe=True) -> pd.DataFrame:\n",
    "    \"\"\"Returns a clean version of the raw DataFrame\"\"\"\n",
    "    df = df[~df.index.duplicated(keep='first')]\n",
    "    if pipe:\n",
    "        df = df.drop([\"track_href\", \"id\", \"type\", \"analysis_url\", \"uri\"], axis=1)\n",
    "    df = df[df['time_signature'] > 0.0]\n",
    "    df = df.replace({\"mode\": {1.0:\"major\", 0.0: \"minor\"}})\n",
    "\n",
    "    return df"
   ]
  },
  {
   "cell_type": "code",
   "execution_count": null,
   "metadata": {},
   "outputs": [],
   "source": [
    "def one_hot(df: pd.DataFrame) -> pd.DataFrame:\n",
    "    \"\"\"One hot encodes the Mode and Time Signature Features\"\"\"\n",
    "    oh_enc = OneHotEncoder()\n",
    "    oh_enc.fit(df[['mode', \"time_signature\", \"key\"]])\n",
    "    dummies = pd.DataFrame(oh_enc.transform(df[['mode', \"time_signature\", \"key\"]]).todense(), \n",
    "                           columns=oh_enc.get_feature_names(['mode', \"time_signature\", \"key\"]),\n",
    "                           index = df.index)\n",
    "    return df.join(dummies).drop(['mode', \"time_signature\", \"key\"], axis=1)"
   ]
  },
  {
   "cell_type": "code",
   "execution_count": null,
   "metadata": {},
   "outputs": [],
   "source": [
    "def center(df: pd.DataFrame) -> pd.DataFrame:\n",
    "    \"\"\" Returns a design matrix for PCA from a given DataFrame\"\"\"\n",
    "    means = np.mean(df)\n",
    "    centered = df - means\n",
    "    \n",
    "    return centered"
   ]
  },
  {
   "cell_type": "code",
   "execution_count": null,
   "metadata": {},
   "outputs": [],
   "source": [
    "def design_matrix(df: pd.DataFrame) -> pd.DataFrame:\n",
    "    \"\"\"Returns the design matric of the DataFrame\"\"\"\n",
    "    X = df.drop(['playlist'], axis=1)\n",
    "    X = StandardScaler().fit_transform((X - np.mean(X)).to_numpy())\n",
    "    y = df['playlist']\n",
    "    return X, y"
   ]
  },
  {
   "cell_type": "markdown",
   "metadata": {},
   "source": [
    "## Save Playlist Feature Data"
   ]
  },
  {
   "cell_type": "code",
   "execution_count": null,
   "metadata": {},
   "outputs": [],
   "source": [
    "df_dict = {}\n",
    "for (uri, name) in zip(playlists.keys(), playlists.values()):\n",
    "    new_df = create_df_from_uri(uri)\n",
    "    new_df.to_csv(name, index=True)\n",
    "    df_dict[name] = new_df"
   ]
  },
  {
   "cell_type": "code",
   "execution_count": null,
   "metadata": {},
   "outputs": [],
   "source": [
    "column_labels = ['danceability', 'energy', 'key', 'loudness', 'mode', 'speechiness', 'acousticness', \n",
    "                 'instrumentalness', 'liveness', 'valence', 'tempo', 'type', 'id', 'uri', 'track_href', \n",
    "                 'analysis_url', 'duration_ms', 'time_signature', 'playlist']\n",
    "\n",
    "features_df = pd.DataFrame(columns=column_labels)\n",
    "for playlist in os.listdir(\"../data/playlists\"):\n",
    "    features = pd.read_csv(f\"../data/playlists/{playlist}\", index_col=0)\n",
    "    features['playlist'] = playlist\n",
    "    features_df = features_df.append(features, sort=False)\n",
    "    \n",
    "features_df"
   ]
  }
 ],
 "metadata": {
  "kernelspec": {
   "display_name": "Python 3",
   "language": "python",
   "name": "python3"
  },
  "language_info": {
   "codemirror_mode": {
    "name": "ipython",
    "version": 3
   },
   "file_extension": ".py",
   "mimetype": "text/x-python",
   "name": "python",
   "nbconvert_exporter": "python",
   "pygments_lexer": "ipython3",
   "version": "3.7.4"
  }
 },
 "nbformat": 4,
 "nbformat_minor": 2
}
