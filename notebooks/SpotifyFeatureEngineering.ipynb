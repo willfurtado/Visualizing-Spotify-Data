{
 "cells": [
  {
   "cell_type": "markdown",
   "metadata": {},
   "source": [
    "# Spotify Feature Engineering"
   ]
  },
  {
   "cell_type": "code",
   "execution_count": null,
   "metadata": {},
   "outputs": [],
   "source": [
    "import numpy as np\n",
    "import pandas as pd\n",
    "import matplotlib.pyplot as plt\n",
    "import seaborn as sns\n",
    "import plotly.express as px\n",
    "\n",
    "from sklearn.preprocessing import OneHotEncoder, StandardScaler\n",
    "from sklearn.decomposition import PCA\n",
    "from sklearn.cluster import KMeans\n",
    "\n",
    "NUM_CLUSTERS = 7"
   ]
  },
  {
   "cell_type": "code",
   "execution_count": null,
   "metadata": {},
   "outputs": [],
   "source": [
    "df = pd.read_csv(\"../data/tops/features.csv\", index_col=0)"
   ]
  },
  {
   "cell_type": "markdown",
   "metadata": {},
   "source": [
    "## Function Schema"
   ]
  },
  {
   "cell_type": "markdown",
   "metadata": {},
   "source": [
    "Within the Notebook, we have the following functions to assist our feature engineering and clustering:\n",
    "\n",
    ">1. `clean_raw_df`: Returns a clean version of the raw DataFrame.\n",
    "2. `one_hot`: One hot encodes the Mode and Time Signature features.\n",
    "3. `center`: Centers the data of a DataFrame by subtracting the mean row.\n",
    "4. `design_matrix`: Returns a design matrix (NumPy) for future work.\n",
    "5. `plot_scree`: Given a SVD of a matrix, plots the scree plot.\n",
    "6. `cluster_data`: Performs k-Means clustering on the given data.\n",
    "7. `plot_pca`: Plots the dimensionality-reduced data using first two principal components.\n",
    "8. `pipeline`: Performs the whole process.\n",
    ">"
   ]
  },
  {
   "cell_type": "code",
   "execution_count": null,
   "metadata": {},
   "outputs": [],
   "source": [
    "def clean_raw_df(df: pd.DataFrame, pipe=True) -> pd.DataFrame:\n",
    "    \"\"\"Returns a clean version of the raw DataFrame\"\"\"\n",
    "    df = df.drop_duplicates(subset=[\"uri\"]).set_index(\"uri\").dropna()\n",
    "    df = df[~df['title'].str.contains(\"rain\", case=False)]\n",
    "    if pipe:\n",
    "        df = df.drop([\"track_href\", \"id\", \"title\", \"type\", \"analysis_url\"], axis=1)\n",
    "    df = df[df['time_signature'] > 0.0]\n",
    "    df = df.replace({\"mode\": {1.0:\"major\", 0.0: \"minor\"}})\n",
    "\n",
    "    return df"
   ]
  },
  {
   "cell_type": "code",
   "execution_count": null,
   "metadata": {},
   "outputs": [],
   "source": [
    "def one_hot(df: pd.DataFrame) -> pd.DataFrame:\n",
    "    \"\"\"One hot encodes the Mode and Time Signature Features\"\"\"\n",
    "    oh_enc = OneHotEncoder()\n",
    "    oh_enc.fit(df[['mode', \"time_signature\", \"key\"]])\n",
    "    dummies = pd.DataFrame(oh_enc.transform(df[['mode', \"time_signature\", \"key\"]]).todense(), \n",
    "                           columns=oh_enc.get_feature_names(['mode', \"time_signature\", \"key\"]),\n",
    "                           index = df.index)\n",
    "    return df.join(dummies).drop(['mode', \"time_signature\", \"key\"], axis=1)"
   ]
  },
  {
   "cell_type": "code",
   "execution_count": null,
   "metadata": {},
   "outputs": [],
   "source": [
    "def center(df: pd.DataFrame) -> pd.DataFrame:\n",
    "    \"\"\" Returns a design matrix for PCA from a given DataFrame\"\"\"\n",
    "    means = np.mean(df)\n",
    "    centered = df - means\n",
    "    \n",
    "    return centered"
   ]
  },
  {
   "cell_type": "code",
   "execution_count": null,
   "metadata": {},
   "outputs": [],
   "source": [
    "def design_matrix(df: pd.DataFrame) -> pd.DataFrame:\n",
    "    \"\"\"Returns the design matric of the DataFrame\"\"\"\n",
    "    return StandardScaler().fit_transform(df.to_numpy())"
   ]
  },
  {
   "cell_type": "code",
   "execution_count": null,
   "metadata": {},
   "outputs": [],
   "source": [
    "def plot_scree(df: pd.DataFrame) -> None:\n",
    "    \"\"\"Creates a scree plot of the singular values of the SVD\"\"\"\n",
    "    u, s, vt = np.linalg.svd(design_matrix(df), full_matrices=False)\n",
    "    num_features = s.shape[0] + 1\n",
    "    \n",
    "    plt.figure(figsize=(10,5))\n",
    "    plt.plot(list(range(1,num_features)), s**2 / sum(s**2))\n",
    "    plt.xticks(list(range(1, num_features)), list(range(1,num_features)))\n",
    "    plt.xlabel('PC #');\n",
    "    plt.ylabel('Fraction of Variance Explained');\n",
    "    plt.title('Fraction of Variance Explained by each Principal Component');"
   ]
  },
  {
   "cell_type": "code",
   "execution_count": null,
   "metadata": {},
   "outputs": [],
   "source": [
    "def cluster_data(df: pd.DataFrame, clusters=NUM_CLUSTERS) -> tuple:\n",
    "    \"\"\"Performs the KMeans Clustering of the data\"\"\"\n",
    "    X = design_matrix(df)\n",
    "    pca = PCA(n_components=2)\n",
    "    principal_components = pca.fit_transform(X)\n",
    "\n",
    "    target_df_pca = pd.DataFrame(data=principal_components, columns=['PC_1', 'PC_2'])\n",
    "\n",
    "    kmeans_pca = KMeans(n_clusters=clusters, init='k-means++', n_init=25)\n",
    "    predicted_pca = kmeans_pca.fit_predict(principal_components)\n",
    "    \n",
    "    target_df_pca['prediction'] = predicted_pca\n",
    "    target_df_pca.set_index(keys=df.index, inplace=True)\n",
    "    \n",
    "    return target_df_pca, kmeans_pca"
   ]
  },
  {
   "cell_type": "code",
   "execution_count": null,
   "metadata": {},
   "outputs": [],
   "source": [
    "def plot_pca(cluster_data: tuple) -> None:\n",
    "    \"\"\"Plot a PCA chart with n clusters\"\"\"\n",
    "    data, kmeans = cluster_data\n",
    "    n = kmeans.n_clusters\n",
    "    plt.figure(figsize=(10,5))\n",
    "    sns.scatterplot(x='PC_1', y='PC_2', data=data, \n",
    "                    hue='prediction', palette=sns.color_palette('hls', n), \n",
    "                    style='prediction', markers=n*['.'], s=100)\n",
    "\n",
    "    for center, i in zip(kmeans.cluster_centers_, range(n)):\n",
    "        if not i:\n",
    "            plt.scatter(center[0], center[1], marker='*',s=200, c='black', label='Centroid')\n",
    "        else:\n",
    "            plt.scatter(center[0], center[1], marker='*',s=200, c='black')\n",
    "\n",
    "    plt.xlabel('First Principal Component (PCA)')\n",
    "    plt.ylabel('Second Principal Component (PCA)')\n",
    "    plt.title('k-Means Clustering via PCA', pad=20)\n",
    "    plt.legend(shadow=True);"
   ]
  },
  {
   "cell_type": "code",
   "execution_count": null,
   "metadata": {},
   "outputs": [],
   "source": [
    "def pipeline(df, plot=True, return_data=False):\n",
    "    \"\"\"Completes a full cycle of the PCA, Clustering processs for a given DataFrame.\"\"\"\n",
    "    cleaned = clean_raw_df(df)\n",
    "    oh = one_hot(cleaned)\n",
    "    centered = center(oh)\n",
    "    cluster = cluster_data(centered)\n",
    "    \n",
    "    if plot:\n",
    "        plot_scree(centered)\n",
    "        plot_pca(cluster)\n",
    "    \n",
    "    if return_data:\n",
    "        return cluster[0], cluster[1], centered"
   ]
  },
  {
   "cell_type": "markdown",
   "metadata": {},
   "source": [
    "## PCA --> k-Means Clustering"
   ]
  },
  {
   "cell_type": "markdown",
   "metadata": {},
   "source": [
    "Within this section of the notebook, I will perform Principal Component Analysis (PCA) on the featured data, and then use a k-Means Clustering algorithm to identify genres in my two-dimensional track space."
   ]
  },
  {
   "cell_type": "code",
   "execution_count": null,
   "metadata": {},
   "outputs": [],
   "source": [
    "data, kmeans, clustered = pipeline(df, plot=True, return_data=True)"
   ]
  },
  {
   "cell_type": "code",
   "execution_count": null,
   "metadata": {},
   "outputs": [],
   "source": [
    "preds = data.merge(clean_raw_df(df, pipe=False), how=\"inner\", \n",
    "                left_on=data.index, \n",
    "                right_on=clean_raw_df(df, pipe=False).index, \n",
    "                left_index=True, \n",
    "                right_index=True)"
   ]
  },
  {
   "cell_type": "code",
   "execution_count": null,
   "metadata": {},
   "outputs": [],
   "source": [
    "fig = px.scatter(preds, x='PC_1', y='PC_2', hover_name='title', color=\"prediction\")\n",
    "fig.update_layout(\n",
    "    height=600,\n",
    "    width=900,\n",
    "    title_text='PCA of Spotify Tracks'\n",
    ")\n",
    "fig.show()"
   ]
  },
  {
   "cell_type": "markdown",
   "metadata": {},
   "source": [
    "## k-Means Clustering --> PCA"
   ]
  },
  {
   "cell_type": "markdown",
   "metadata": {},
   "source": [
    "Within this section of the notebook, I will use a k-Means Clustering algorithm to identify genres in my higher-dimensional track space, and then perform Principal Component Analysis (PCA) to reduce the featured data into a visualizable, two-dimensional space."
   ]
  },
  {
   "cell_type": "code",
   "execution_count": null,
   "metadata": {},
   "outputs": [],
   "source": [
    "new_df = center(one_hot(clean_raw_df(df)))\n",
    "X = design_matrix(new_df)\n",
    "\n",
    "model = KMeans(n_clusters=NUM_CLUSTERS, init='k-means++', n_init=25)\n",
    "pca = PCA(n_components=2)\n",
    "\n",
    "predictions = model.fit_predict(X)\n",
    "principal_components = pca.fit_transform(X)\n",
    "\n",
    "target_df_pca = pd.DataFrame(data=principal_components, columns=['PC_1', 'PC_2'], index=new_df.index)\n",
    "joined_df = new_df.join(target_df_pca)\n",
    "\n",
    "joined_df['predictions'] = predictions.astype(str)\n",
    "joined_df['title'] = clean_raw_df(df, pipe=False)['title']"
   ]
  },
  {
   "cell_type": "code",
   "execution_count": null,
   "metadata": {},
   "outputs": [],
   "source": [
    "plt.figure(figsize=(20,10))\n",
    "sns.scatterplot(x='PC_1', y='PC_2', data=joined_df, \n",
    "                hue='predictions', palette=sns.color_palette('hls', NUM_CLUSTERS), \n",
    "                style='predictions', markers=NUM_CLUSTERS*['.'], s=100)\n",
    "\n",
    "for centroid, i in zip(model.cluster_centers_, range(NUM_CLUSTERS)):\n",
    "    if not i:\n",
    "        plt.scatter(centroid[0], centroid[1], marker='*',s=200, c='black', label='Centroid')\n",
    "    else:\n",
    "        plt.scatter(centroid[0], centroid[1], marker='*',s=200, c='black')\n",
    "\n",
    "plt.xlabel('First Principal Component (PCA)')\n",
    "plt.ylabel('Second Principal Component (PCA)')\n",
    "plt.title('k-Means Clustering via PCA', pad=20)\n",
    "plt.legend(shadow=True);"
   ]
  },
  {
   "cell_type": "code",
   "execution_count": null,
   "metadata": {},
   "outputs": [],
   "source": [
    "fig2 = px.scatter(joined_df, x='PC_1', y='PC_2', hover_name='title', color=\"predictions\")\n",
    "fig2.update_layout(\n",
    "    height=900,\n",
    "    width=1200,\n",
    "    title_text='PCA of Spotify Tracks'\n",
    ")\n",
    "fig2.show()"
   ]
  }
 ],
 "metadata": {
  "kernelspec": {
   "display_name": "Python 3",
   "language": "python",
   "name": "python3"
  },
  "language_info": {
   "codemirror_mode": {
    "name": "ipython",
    "version": 3
   },
   "file_extension": ".py",
   "mimetype": "text/x-python",
   "name": "python",
   "nbconvert_exporter": "python",
   "pygments_lexer": "ipython3",
   "version": "3.7.4"
  }
 },
 "nbformat": 4,
 "nbformat_minor": 2
}
