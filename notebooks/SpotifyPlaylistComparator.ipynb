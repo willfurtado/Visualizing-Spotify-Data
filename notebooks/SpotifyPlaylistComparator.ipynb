{
 "cells": [
  {
   "cell_type": "markdown",
   "metadata": {},
   "source": [
    "# Spotify Playlist Comparator"
   ]
  },
  {
   "cell_type": "markdown",
   "metadata": {},
   "source": [
    "**Playlist Analysis with Object-Oriented Approach**: Instead of having to work with much of the irrelevant information that is carried for each object, I used an object-oriented approach in order to structure Users, Playlists, and Tracks in a way that would be more accessible for me."
   ]
  },
  {
   "cell_type": "markdown",
   "metadata": {},
   "source": [
    "## Dependencies"
   ]
  },
  {
   "cell_type": "code",
   "execution_count": null,
   "metadata": {},
   "outputs": [],
   "source": [
    "import pandas as pd\n",
    "import numpy as np\n",
    "import seaborn as sns\n",
    "import matplotlib.pyplot as plt\n",
    "import math\n",
    "import spotipy\n",
    "\n",
    "from sklearn import preprocessing\n",
    "from spotipy.oauth2 import SpotifyOAuth\n",
    "from credentials import SPOTIPY_CLIENT_ID, SPOTIPY_CLIENT_SECRET, SPOTIPY_REDIRECT_URI\n",
    "\n",
    "scope = \"user-library-read\""
   ]
  },
  {
   "cell_type": "markdown",
   "metadata": {},
   "source": [
    "## User-Playlist-Track Structure"
   ]
  },
  {
   "cell_type": "code",
   "execution_count": null,
   "metadata": {},
   "outputs": [],
   "source": [
    "class CurrentUser:\n",
    "    \"\"\"Represents a unique Spotify user using Spotipy OAuth2.\"\"\"\n",
    "    sp = spotipy.Spotify(\n",
    "            auth_manager=SpotifyOAuth(scope=scope, \n",
    "            client_id=SPOTIPY_CLIENT_ID, \n",
    "            client_secret=SPOTIPY_CLIENT_SECRET,\n",
    "            redirect_uri=SPOTIPY_REDIRECT_URI)\n",
    "    )\n",
    "    \n",
    "    def __init__(self):\n",
    "        self.display_name = self.sp.current_user()['display_name']\n",
    "        self.id = self.sp.current_user()['id']\n",
    "        self.playlists = []\n",
    "        \n",
    "        self.write_playlists_to_user()\n",
    "        \n",
    "    def write_playlists_to_user(self):\n",
    "        playlists = self.sp.current_user_playlists()['items']\n",
    "        for playlist in playlists:\n",
    "            playlist_id = playlist['id']\n",
    "            new_playlist = Playlist(playlist_id)\n",
    "            self.playlists.append(new_playlist)\n",
    "    \n",
    "    def __repr__(self):\n",
    "        \"\"\"Returns a representation of the CurrentUser object\"\"\"\n",
    "        return f\"Current User: {self.display_name}\""
   ]
  },
  {
   "cell_type": "code",
   "execution_count": null,
   "metadata": {},
   "outputs": [],
   "source": [
    "class Playlist:\n",
    "    \"\"\"Represents a unique spotify Playlist for a given user.\"\"\"\n",
    "    user = CurrentUser.sp.current_user()['id']\n",
    "    \n",
    "    def __init__(self, playlist_id):\n",
    "        \"\"\"Creates an instance of the Playlist object\"\"\"\n",
    "        self.name = CurrentUser.sp.playlist(playlist_id)['name']\n",
    "        self.id = playlist_id\n",
    "        self.items = []\n",
    "        \n",
    "        self.write_tracks_to_items()\n",
    "        \n",
    "    def write_tracks_to_items(self):\n",
    "        \"\"\"Creates a list of Track objects within the playlist\"\"\"\n",
    "        tracks_raw = CurrentUser.sp.playlist(self.id)['tracks']['items']\n",
    "        for track in tracks_raw:\n",
    "            new_track_id = track['track']['id']\n",
    "            new_track = Track(new_track_id)\n",
    "            self.items.append(new_track)\n",
    "            \n",
    "    def __repr__(self):\n",
    "        \"\"\"Returns a representation of the Playlist object.\"\"\"\n",
    "        return f\"{self.name}, {self.user}'s playlist\"\n",
    "    \n",
    "    def to_df(self):\n",
    "        \"\"\"Converts the given playlist into a Pandas DataFrame.\"\"\"\n",
    "        column_labels = ['danceability', 'energy', 'key', 'loudness', 'mode', 'speechiness', 'acousticness', \n",
    "                         'instrumentalness', 'liveness', 'valence', 'tempo', 'type', 'id', 'uri', 'track_href', \n",
    "                         'analysis_url', 'duration_ms', 'time_signature']\n",
    "\n",
    "        features_df = pd.DataFrame(columns=column_labels)\n",
    "        \n",
    "        for track in self.items:\n",
    "            features = CurrentUser.sp.audio_features(track.id)[0]\n",
    "            dataframe = pd.DataFrame(data=features, index=[track.name])\n",
    "            features_df = features_df.append(dataframe, sort=False)\n",
    "        features_df.name = self.name\n",
    "            \n",
    "        return features_df"
   ]
  },
  {
   "cell_type": "code",
   "execution_count": null,
   "metadata": {},
   "outputs": [],
   "source": [
    "class Track:\n",
    "    \"\"\"Represents a given Track on a user's playlist.\"\"\"\n",
    "    user = CurrentUser.sp.current_user()['id']\n",
    "    \n",
    "    def __init__(self, track_id):\n",
    "        \"Creates an instance of the Track class object.\"\n",
    "        self.name = CurrentUser.sp.track(track_id)['name']\n",
    "        self.id = track_id\n",
    "        self.artist = CurrentUser.sp.track(track_id)['artists'][0]['name']\n",
    "    \n",
    "    def __repr__(self):\n",
    "        \"\"\"Returns a representation of the Track object.\"\"\"\n",
    "        return f\"{self.name} by {self.artist}\""
   ]
  },
  {
   "cell_type": "markdown",
   "metadata": {},
   "source": [
    "## Plotting Tools for Visualization"
   ]
  },
  {
   "cell_type": "code",
   "execution_count": null,
   "metadata": {},
   "outputs": [],
   "source": [
    "def plot_feature(df, feature):\n",
    "    \"\"\"Plots the distribution of a given audio feature across a group of tracks\"\"\"\n",
    "    sns.distplot(df[feature], label=df.name)\n",
    "    plt.xlabel(f'{feature}', fontsize=18)\n",
    "    plt.grid(True)"
   ]
  },
  {
   "cell_type": "code",
   "execution_count": null,
   "metadata": {},
   "outputs": [],
   "source": [
    "def plot_analysis(df):\n",
    "    \"\"\"Creates a 12 element plot that visualizes all audio features for a group of tracks\"\"\"\n",
    "    features = list(df.columns[0:11]) + list(df.columns[-1:])\n",
    "    plt.figure(figsize=(20,20))\n",
    "    for (i, feature) in zip(range(1,13), features):\n",
    "        plt.subplot(4,3,i)\n",
    "        plot_feature(df, feature) \n",
    "    plt.suptitle('Visual Analysis of Spotify Playlist')\n",
    "    plt.tight_layout()"
   ]
  },
  {
   "cell_type": "code",
   "execution_count": null,
   "metadata": {},
   "outputs": [],
   "source": [
    "def compare(*args):\n",
    "    \"\"\"Overlays the audio analysis of two or more groups of tracks to easily compare differences\"\"\"\n",
    "    features = list(args[0].columns[0:11]) + ['duration_ms']\n",
    "    plt.figure(figsize=(20,20))\n",
    "    for (i,feature) in zip(range(1,13), features):\n",
    "        plt.subplot(4,3,i)\n",
    "        for df in args:\n",
    "            plot_feature(df, feature)\n",
    "            plt.legend()\n",
    "    plt.suptitle('Comparison of User Playlists', y=1.03, fontsize=25)\n",
    "    plt.tight_layout()"
   ]
  },
  {
   "cell_type": "markdown",
   "metadata": {},
   "source": [
    "## Tools for Matching Score"
   ]
  },
  {
   "cell_type": "code",
   "execution_count": null,
   "metadata": {},
   "outputs": [],
   "source": [
    "def standardize_df(df):\n",
    "    \"\"\"Returns a standardized version of the features DataFrame using sci-kit learn\"\"\"\n",
    "    features = list(df.columns[0:11]) + ['duration_ms']\n",
    "    new_df = df.iloc[:,list(range(11)) + [16]]\n",
    "    x = new_df.values\n",
    "    min_max_scaler = preprocessing.MinMaxScaler()\n",
    "    x_scaled = min_max_scaler.fit_transform(x)\n",
    "    return pd.DataFrame(data=x_scaled, columns=features)"
   ]
  },
  {
   "cell_type": "code",
   "execution_count": null,
   "metadata": {},
   "outputs": [],
   "source": [
    "def diagonalize(df):\n",
    "    \"\"\" Returns a matrix multiplicationf of A-tranpose multiplied by A to get q square matrix.\"\"\"\n",
    "    standard = standardize_df(df).to_numpy()\n",
    "    return np.matmul(np.transpose(standard), standard)"
   ]
  },
  {
   "cell_type": "code",
   "execution_count": null,
   "metadata": {},
   "outputs": [],
   "source": [
    "def rmse(df1, df2):\n",
    "    \"\"\"Computes the Root Mean Squared Error between two standardized DataFrames\"\"\"\n",
    "    return np.mean((df1.mean() - df2.mean())**2)**(0.5)"
   ]
  },
  {
   "cell_type": "code",
   "execution_count": null,
   "metadata": {},
   "outputs": [],
   "source": [
    "def matching_score(df1, df2):\n",
    "    \"\"\"Computes a theoretical matching score between two playlists in terms of their audio features.\"\"\"\n",
    "    df1_standard = standardize_df(df1)\n",
    "    df2_standard = standardize_df(df2)\n",
    "    theoretical_score = rmse(df1_standard, df2_standard)\n",
    "    if not theoretical_score:\n",
    "        print(\"Playlists are identical.\")\n",
    "        return\n",
    "    return 1 / theoretical_score"
   ]
  },
  {
   "cell_type": "code",
   "execution_count": null,
   "metadata": {},
   "outputs": [],
   "source": [
    "def alternative_matching_score(df1, df2):\n",
    "    \"\"\"Uses techniques from linear algebra to compute an alternative matching score. \"\"\"\n",
    "    diagonal1, diagonal2 = diagonalize(df1), diagonalize(df2)\n",
    "    score = 0\n",
    "    diff = diagonal1 - diagonal2\n",
    "    for feature in diff:\n",
    "        score += np.mean(feature)\n",
    "        \n",
    "    return abs(score)"
   ]
  },
  {
   "cell_type": "markdown",
   "metadata": {},
   "source": [
    "## Loading Current User's Library"
   ]
  },
  {
   "cell_type": "markdown",
   "metadata": {},
   "source": [
    "The following cell will load all of the Current User's relevant information into the hierarchy that is established above. It will iterate through all of the user's playlists and create instances of each. Then, it will populate itself with Track objects -- consisting of a name, artist and Spotify ID."
   ]
  },
  {
   "cell_type": "code",
   "execution_count": null,
   "metadata": {},
   "outputs": [],
   "source": [
    "user = CurrentUser()"
   ]
  },
  {
   "cell_type": "code",
   "execution_count": null,
   "metadata": {},
   "outputs": [],
   "source": [
    "user.playlists"
   ]
  },
  {
   "cell_type": "code",
   "execution_count": null,
   "metadata": {},
   "outputs": [],
   "source": [
    "quantum = user.playlists[0]\n",
    "quantum_df = quantum.to_df()\n",
    "\n",
    "nonlinear = user.playlists[2]\n",
    "nonlinear_df = nonlinear.to_df()\n",
    "\n",
    "homeostasis = user.playlists[8]\n",
    "homeostasis_df = homeostasis.to_df()\n",
    "\n",
    "workout = user.playlists[13]\n",
    "workout_df = workout.to_df()\n",
    "\n",
    "supa = user.playlists[15]\n",
    "supa_df = supa.to_df()"
   ]
  },
  {
   "cell_type": "markdown",
   "metadata": {},
   "source": [
    "## Visualizing Playlist Differences"
   ]
  },
  {
   "cell_type": "markdown",
   "metadata": {},
   "source": [
    "The below cell utilizes special plotting functions defined above to compare the distribution of each audio feature for all the playlists. This function can compare two or more DataFrames. Theses DataFrames can be obtained from the Playlist object by calling the `.to_df()` method on each instance of a User's playlists."
   ]
  },
  {
   "cell_type": "code",
   "execution_count": null,
   "metadata": {},
   "outputs": [],
   "source": [
    "compare(supa_df, homeostasis_df, nonlinear_df)"
   ]
  },
  {
   "cell_type": "markdown",
   "metadata": {},
   "source": [
    "## How Similar are My Playlists?"
   ]
  },
  {
   "cell_type": "markdown",
   "metadata": {},
   "source": [
    "By taking the RMSE values between two arrays representative of two Playlists, I am able to compute a theoretical matching score between two Playlists. These, of course, are normalized to avoid any biases."
   ]
  },
  {
   "cell_type": "code",
   "execution_count": null,
   "metadata": {},
   "outputs": [],
   "source": [
    "matching_score(workout_df, supa_df)"
   ]
  },
  {
   "cell_type": "code",
   "execution_count": null,
   "metadata": {},
   "outputs": [],
   "source": [
    "matching_score(quantum_df, supa_df)"
   ]
  },
  {
   "cell_type": "code",
   "execution_count": null,
   "metadata": {},
   "outputs": [],
   "source": [
    "matching_score(quantum_df, nonlinear_df)"
   ]
  },
  {
   "cell_type": "code",
   "execution_count": null,
   "metadata": {},
   "outputs": [],
   "source": [
    "matching_score(quantum_df, homeostasis_df)"
   ]
  },
  {
   "cell_type": "code",
   "execution_count": null,
   "metadata": {},
   "outputs": [],
   "source": [
    "matching_score(workout_df, homeostasis_df)"
   ]
  },
  {
   "cell_type": "code",
   "execution_count": null,
   "metadata": {},
   "outputs": [],
   "source": [
    "matching_score(supa_df, homeostasis_df)"
   ]
  },
  {
   "cell_type": "code",
   "execution_count": null,
   "metadata": {},
   "outputs": [],
   "source": [
    "matching_score(quantum_df, quantum_df)"
   ]
  },
  {
   "cell_type": "markdown",
   "metadata": {},
   "source": [
    "## Comparing Different User's Playlists"
   ]
  },
  {
   "cell_type": "code",
   "execution_count": null,
   "metadata": {},
   "outputs": [],
   "source": [
    "quantum = Playlist(\"spotify:playlist:5RMXhT59sies1LaExYEPKY\")\n",
    "bkgnd = Playlist(\"spotify:playlist:3kMZM5jiZ6ClsObXQ7mA4i\")\n",
    "seaweed = Playlist(\"spotify:playlist:1uZJKvJr7wJITkwYQ9cNNM\")"
   ]
  },
  {
   "cell_type": "code",
   "execution_count": null,
   "metadata": {},
   "outputs": [],
   "source": [
    "quantum_df = quantum.to_df()\n",
    "bkgnd_df = bkgnd.to_df()\n",
    "seaweed_df = seaweed.to_df()"
   ]
  },
  {
   "cell_type": "code",
   "execution_count": null,
   "metadata": {},
   "outputs": [],
   "source": [
    "matching_score(quantum_df, bkgnd_df)"
   ]
  },
  {
   "cell_type": "code",
   "execution_count": null,
   "metadata": {},
   "outputs": [],
   "source": [
    "matching_score(quantum_df, seaweed_df)"
   ]
  },
  {
   "cell_type": "code",
   "execution_count": null,
   "metadata": {},
   "outputs": [],
   "source": [
    "alternative_matching_score(quantum_df, seaweed_df)"
   ]
  },
  {
   "cell_type": "code",
   "execution_count": null,
   "metadata": {},
   "outputs": [],
   "source": [
    "compare(quantum_df, seaweed_df)"
   ]
  },
  {
   "cell_type": "code",
   "execution_count": null,
   "metadata": {},
   "outputs": [],
   "source": [
    "compare(nonlinear_df, bkgnd_df)"
   ]
  }
 ],
 "metadata": {
  "kernelspec": {
   "display_name": "Python 3",
   "language": "python",
   "name": "python3"
  },
  "language_info": {
   "codemirror_mode": {
    "name": "ipython",
    "version": 3
   },
   "file_extension": ".py",
   "mimetype": "text/x-python",
   "name": "python",
   "nbconvert_exporter": "python",
   "pygments_lexer": "ipython3",
   "version": "3.7.4"
  }
 },
 "nbformat": 4,
 "nbformat_minor": 2
}
