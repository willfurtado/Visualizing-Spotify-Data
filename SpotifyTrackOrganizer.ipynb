{
 "cells": [
  {
   "cell_type": "code",
   "execution_count": 1,
   "metadata": {},
   "outputs": [],
   "source": [
    "from secrets import *"
   ]
  },
  {
   "cell_type": "code",
   "execution_count": 3,
   "metadata": {},
   "outputs": [],
   "source": [
    "import spotipy\n",
    "from spotipy.oauth2 import SpotifyOAuth\n",
    "\n",
    "import numpy as np\n",
    "import pandas as pd\n",
    "import seaborn as sns\n",
    "import json\n",
    "import time\n",
    "import matplotlib.pyplot as plt\n",
    "%matplotlib inline\n",
    "\n",
    "plt.style.use('ggplot')"
   ]
  },
  {
   "cell_type": "code",
   "execution_count": 4,
   "metadata": {},
   "outputs": [],
   "source": [
    "scope = \"user-library-read\"\n",
    "\n",
    "sp = spotipy.Spotify(auth_manager=SpotifyOAuth(scope=scope, \n",
    "    client_id=SPOTIPY_CLIENT_ID, \n",
    "    client_secret=SPOTIPY_CLIENT_SECRET,\n",
    "    username=CLIENT_USERNAME,\n",
    "    redirect_uri=SPOTIPY_REDIRECT_URI))"
   ]
  },
  {
   "cell_type": "code",
   "execution_count": 66,
   "metadata": {},
   "outputs": [],
   "source": [
    "def extract_playlists_from_user():\n",
    "    \"\"\"\n",
    "    Returns a dictionary of playlist URIs and their corresponding titles.\n",
    "    \"\"\"\n",
    "    playlists = sp.current_user_playlists()\n",
    "    d = {}\n",
    "    for playlist in playlists['items']:\n",
    "        d[playlist[\"uri\"]] = playlist['name']\n",
    "    \n",
    "    return d"
   ]
  },
  {
   "cell_type": "code",
   "execution_count": 67,
   "metadata": {},
   "outputs": [],
   "source": [
    "def extract_songs_from_playlist(uri):\n",
    "    \"\"\"\n",
    "    Returns a dictionary of track URIs and their corresponding names given a playlist.\n",
    "    \"\"\"\n",
    "    playlist = sp.playlist_tracks(uri)\n",
    "    playlist_d = {}\n",
    "    for song in playlist['items']:\n",
    "        playlist_d[song['track']['id']] = song['track']['name']\n",
    "    \n",
    "    return playlist_d"
   ]
  },
  {
   "cell_type": "code",
   "execution_count": 68,
   "metadata": {},
   "outputs": [],
   "source": [
    "def create_playlist_df(songs: dict):\n",
    "    \"\"\"\n",
    "    Returns a DataFrame representation of a given playlist.\n",
    "    \"\"\"\n",
    "    column_labels = ['danceability', 'energy', 'key', 'loudness', 'mode', 'speechiness', 'acousticness', \n",
    "                 'instrumentalness', 'liveness', 'valence', 'tempo', 'type', 'id', 'uri', 'track_href', \n",
    "                 'analysis_url', 'duration_ms', 'time_signature']\n",
    "\n",
    "    features_df = pd.DataFrame(columns=column_labels)\n",
    "    for (uri, title) in zip(songs.keys(), songs.values()):\n",
    "        features = sp.audio_features([uri])[0]\n",
    "        features_df = features_df.append(pd.DataFrame(data=features, index=[title]), sort=False)\n",
    "    \n",
    "    return features_df"
   ]
  },
  {
   "cell_type": "code",
   "execution_count": 73,
   "metadata": {},
   "outputs": [],
   "source": [
    "def create_df_from_uri(uri):\n",
    "    \"\"\"\n",
    "    Ensemble function that combines songs extraction and DataFrame creation.\n",
    "    \"\"\"\n",
    "    songs = extract_songs_from_playlist(uri)\n",
    "    df = create_playlist_df(songs)\n",
    "    \n",
    "    return df"
   ]
  },
  {
   "cell_type": "code",
   "execution_count": 95,
   "metadata": {},
   "outputs": [],
   "source": [
    "playlists = extract_playlists_from_user()"
   ]
  },
  {
   "cell_type": "code",
   "execution_count": 94,
   "metadata": {},
   "outputs": [],
   "source": [
    "df_dict = {}\n",
    "for (uri, name) in zip(playlists.keys(), playlists.values()):\n",
    "    new_df = create_df_from_uri(uri)\n",
    "    new_df.to_csv(name, index=True)\n",
    "    df_dict[name] = new_df"
   ]
  }
 ],
 "metadata": {
  "kernelspec": {
   "display_name": "Python 3",
   "language": "python",
   "name": "python3"
  },
  "language_info": {
   "codemirror_mode": {
    "name": "ipython",
    "version": 3
   },
   "file_extension": ".py",
   "mimetype": "text/x-python",
   "name": "python",
   "nbconvert_exporter": "python",
   "pygments_lexer": "ipython3",
   "version": "3.7.4"
  }
 },
 "nbformat": 4,
 "nbformat_minor": 2
}
